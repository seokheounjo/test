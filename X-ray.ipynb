{
 "cells": [
  {
   "cell_type": "code",
   "execution_count": 5,
   "id": "3800232f-050f-4ad9-9f30-bc8ea11681e3",
   "metadata": {},
   "outputs": [
    {
     "name": "stdout",
     "output_type": "stream",
     "text": [
      "Collecting matplotlib\n",
      "  Downloading matplotlib-3.7.5-cp38-cp38-win_amd64.whl.metadata (5.8 kB)\n",
      "Collecting contourpy>=1.0.1 (from matplotlib)\n",
      "  Downloading contourpy-1.1.1-cp38-cp38-win_amd64.whl.metadata (5.9 kB)\n",
      "Collecting cycler>=0.10 (from matplotlib)\n",
      "  Downloading cycler-0.12.1-py3-none-any.whl.metadata (3.8 kB)\n",
      "Collecting fonttools>=4.22.0 (from matplotlib)\n",
      "  Downloading fonttools-4.49.0-cp38-cp38-win_amd64.whl.metadata (162 kB)\n",
      "     ---------------------------------------- 0.0/162.3 kB ? eta -:--:--\n",
      "     ----------------------------------- -- 153.6/162.3 kB 4.6 MB/s eta 0:00:01\n",
      "     -------------------------------------- 162.3/162.3 kB 3.2 MB/s eta 0:00:00\n",
      "Collecting kiwisolver>=1.0.1 (from matplotlib)\n",
      "  Downloading kiwisolver-1.4.5-cp38-cp38-win_amd64.whl.metadata (6.5 kB)\n",
      "Requirement already satisfied: numpy<2,>=1.20 in c:\\users\\untjr\\anaconda3\\envs\\x-ray\\lib\\site-packages (from matplotlib) (1.24.4)\n",
      "Requirement already satisfied: packaging>=20.0 in c:\\users\\untjr\\anaconda3\\envs\\x-ray\\lib\\site-packages (from matplotlib) (23.1)\n",
      "Requirement already satisfied: pillow>=6.2.0 in c:\\users\\untjr\\anaconda3\\envs\\x-ray\\lib\\site-packages (from matplotlib) (10.2.0)\n",
      "Collecting pyparsing>=2.3.1 (from matplotlib)\n",
      "  Downloading pyparsing-3.1.1-py3-none-any.whl.metadata (5.1 kB)\n",
      "Requirement already satisfied: python-dateutil>=2.7 in c:\\users\\untjr\\anaconda3\\envs\\x-ray\\lib\\site-packages (from matplotlib) (2.8.2)\n",
      "Requirement already satisfied: importlib-resources>=3.2.0 in c:\\users\\untjr\\anaconda3\\envs\\x-ray\\lib\\site-packages (from matplotlib) (6.1.1)\n",
      "Requirement already satisfied: zipp>=3.1.0 in c:\\users\\untjr\\anaconda3\\envs\\x-ray\\lib\\site-packages (from importlib-resources>=3.2.0->matplotlib) (3.17.0)\n",
      "Requirement already satisfied: six>=1.5 in c:\\users\\untjr\\anaconda3\\envs\\x-ray\\lib\\site-packages (from python-dateutil>=2.7->matplotlib) (1.16.0)\n",
      "Downloading matplotlib-3.7.5-cp38-cp38-win_amd64.whl (7.5 MB)\n",
      "   ---------------------------------------- 0.0/7.5 MB ? eta -:--:--\n",
      "   ---- ----------------------------------- 0.9/7.5 MB 19.6 MB/s eta 0:00:01\n",
      "   ----------- ---------------------------- 2.2/7.5 MB 23.3 MB/s eta 0:00:01\n",
      "   ---------------------- ----------------- 4.1/7.5 MB 29.3 MB/s eta 0:00:01\n",
      "   -------------------------------- ------- 6.1/7.5 MB 32.2 MB/s eta 0:00:01\n",
      "   ---------------------------------------- 7.5/7.5 MB 31.9 MB/s eta 0:00:00\n",
      "Downloading contourpy-1.1.1-cp38-cp38-win_amd64.whl (477 kB)\n",
      "   ---------------------------------------- 0.0/477.9 kB ? eta -:--:--\n",
      "   ---------------------------------------- 477.9/477.9 kB ? eta 0:00:00\n",
      "Downloading cycler-0.12.1-py3-none-any.whl (8.3 kB)\n",
      "Downloading fonttools-4.49.0-cp38-cp38-win_amd64.whl (1.5 MB)\n",
      "   ---------------------------------------- 0.0/1.5 MB ? eta -:--:--\n",
      "   ---------------------------------------- 1.5/1.5 MB 46.7 MB/s eta 0:00:00\n",
      "Downloading kiwisolver-1.4.5-cp38-cp38-win_amd64.whl (56 kB)\n",
      "   ---------------------------------------- 0.0/56.2 kB ? eta -:--:--\n",
      "   ---------------------------------------- 56.2/56.2 kB 3.1 MB/s eta 0:00:00\n",
      "Downloading pyparsing-3.1.1-py3-none-any.whl (103 kB)\n",
      "   ---------------------------------------- 0.0/103.1 kB ? eta -:--:--\n",
      "   ---------------------------------------- 103.1/103.1 kB 5.8 MB/s eta 0:00:00\n",
      "Installing collected packages: pyparsing, kiwisolver, fonttools, cycler, contourpy, matplotlib\n",
      "Successfully installed contourpy-1.1.1 cycler-0.12.1 fonttools-4.49.0 kiwisolver-1.4.5 matplotlib-3.7.5 pyparsing-3.1.1\n"
     ]
    }
   ],
   "source": [
    "!pip install matplotlib"
   ]
  },
  {
   "cell_type": "code",
   "execution_count": 1,
   "id": "86c4ce7a-af4e-4402-b1e9-1d911bfea1a1",
   "metadata": {},
   "outputs": [
    {
     "name": "stdout",
     "output_type": "stream",
     "text": [
      "Collecting pillow\n",
      "  Downloading pillow-10.2.0-cp38-cp38-win_amd64.whl.metadata (9.9 kB)\n",
      "Downloading pillow-10.2.0-cp38-cp38-win_amd64.whl (2.6 MB)\n",
      "   ---------------------------------------- 0.0/2.6 MB ? eta -:--:--\n",
      "    --------------------------------------- 0.1/2.6 MB 1.7 MB/s eta 0:00:02\n",
      "   --------- ------------------------------ 0.6/2.6 MB 7.9 MB/s eta 0:00:01\n",
      "   ------------------------- -------------- 1.7/2.6 MB 13.5 MB/s eta 0:00:01\n",
      "   ---------------------------------------- 2.6/2.6 MB 16.7 MB/s eta 0:00:00\n",
      "Installing collected packages: pillow\n",
      "Successfully installed pillow-10.2.0\n"
     ]
    }
   ],
   "source": [
    "!pip install pillow"
   ]
  },
  {
   "cell_type": "code",
   "execution_count": 2,
   "id": "87b78c06-c59d-4095-ba12-67c336cc021b",
   "metadata": {},
   "outputs": [
    {
     "name": "stdout",
     "output_type": "stream",
     "text": [
      "Collecting opencv-python\n",
      "  Using cached opencv_python-4.9.0.80-cp37-abi3-win_amd64.whl.metadata (20 kB)\n",
      "Collecting numpy>=1.17.0 (from opencv-python)\n",
      "  Downloading numpy-1.24.4-cp38-cp38-win_amd64.whl.metadata (5.6 kB)\n",
      "Using cached opencv_python-4.9.0.80-cp37-abi3-win_amd64.whl (38.6 MB)\n",
      "Downloading numpy-1.24.4-cp38-cp38-win_amd64.whl (14.9 MB)\n",
      "   ---------------------------------------- 0.0/14.9 MB ? eta -:--:--\n",
      "   ---------------------------------------- 0.0/14.9 MB 1.9 MB/s eta 0:00:08\n",
      "   - -------------------------------------- 0.7/14.9 MB 10.6 MB/s eta 0:00:02\n",
      "   -- ------------------------------------- 1.0/14.9 MB 13.3 MB/s eta 0:00:02\n",
      "   --- ------------------------------------ 1.3/14.9 MB 8.0 MB/s eta 0:00:02\n",
      "   -------- ------------------------------- 3.1/14.9 MB 15.4 MB/s eta 0:00:01\n",
      "   ---------------- ----------------------- 5.9/14.9 MB 23.8 MB/s eta 0:00:01\n",
      "   ------------------------ --------------- 8.9/14.9 MB 30.1 MB/s eta 0:00:01\n",
      "   ------------------------------- -------- 11.8/14.9 MB 59.5 MB/s eta 0:00:01\n",
      "   ---------------------------------------  14.7/14.9 MB 59.5 MB/s eta 0:00:01\n",
      "   ---------------------------------------- 14.9/14.9 MB 54.4 MB/s eta 0:00:00\n",
      "Installing collected packages: numpy, opencv-python\n",
      "Successfully installed numpy-1.24.4 opencv-python-4.9.0.80\n"
     ]
    }
   ],
   "source": [
    "!pip install opencv-python"
   ]
  },
  {
   "cell_type": "code",
   "execution_count": 11,
   "id": "dd43fca5-a554-45ca-a233-d0bce3b47851",
   "metadata": {},
   "outputs": [
    {
     "name": "stdout",
     "output_type": "stream",
     "text": [
      "Requirement already satisfied: torch in c:\\users\\untjr\\anaconda3\\envs\\x-ray\\lib\\site-packages (2.2.1)\n",
      "Requirement already satisfied: torchvision in c:\\users\\untjr\\anaconda3\\envs\\x-ray\\lib\\site-packages (0.17.1)\n",
      "Requirement already satisfied: torchaudio in c:\\users\\untjr\\anaconda3\\envs\\x-ray\\lib\\site-packages (2.2.1)\n",
      "Requirement already satisfied: filelock in c:\\users\\untjr\\anaconda3\\envs\\x-ray\\lib\\site-packages (from torch) (3.13.1)\n",
      "Requirement already satisfied: typing-extensions>=4.8.0 in c:\\users\\untjr\\anaconda3\\envs\\x-ray\\lib\\site-packages (from torch) (4.9.0)\n",
      "Requirement already satisfied: sympy in c:\\users\\untjr\\anaconda3\\envs\\x-ray\\lib\\site-packages (from torch) (1.12)\n",
      "Requirement already satisfied: networkx in c:\\users\\untjr\\anaconda3\\envs\\x-ray\\lib\\site-packages (from torch) (3.1)\n",
      "Requirement already satisfied: jinja2 in c:\\users\\untjr\\anaconda3\\envs\\x-ray\\lib\\site-packages (from torch) (3.1.3)\n",
      "Requirement already satisfied: fsspec in c:\\users\\untjr\\anaconda3\\envs\\x-ray\\lib\\site-packages (from torch) (2024.2.0)\n",
      "Requirement already satisfied: numpy in c:\\users\\untjr\\anaconda3\\envs\\x-ray\\lib\\site-packages (from torchvision) (1.24.4)\n",
      "Requirement already satisfied: pillow!=8.3.*,>=5.3.0 in c:\\users\\untjr\\anaconda3\\envs\\x-ray\\lib\\site-packages (from torchvision) (10.2.0)\n",
      "Requirement already satisfied: MarkupSafe>=2.0 in c:\\users\\untjr\\anaconda3\\envs\\x-ray\\lib\\site-packages (from jinja2->torch) (2.1.3)\n",
      "Requirement already satisfied: mpmath>=0.19 in c:\\users\\untjr\\anaconda3\\envs\\x-ray\\lib\\site-packages (from sympy->torch) (1.3.0)\n"
     ]
    }
   ],
   "source": [
    "!pip install torch torchvision torchaudio"
   ]
  },
  {
   "cell_type": "code",
   "execution_count": 13,
   "id": "83244ebc-4399-43e3-b436-9691b719d74b",
   "metadata": {},
   "outputs": [
    {
     "name": "stdout",
     "output_type": "stream",
     "text": [
      "Collecting tqdm\n",
      "  Downloading tqdm-4.66.2-py3-none-any.whl.metadata (57 kB)\n",
      "     ---------------------------------------- 0.0/57.6 kB ? eta -:--:--\n",
      "     -------------------- ----------------- 30.7/57.6 kB 660.6 kB/s eta 0:00:01\n",
      "     ---------------------------------------- 57.6/57.6 kB 1.0 MB/s eta 0:00:00\n",
      "Requirement already satisfied: colorama in c:\\users\\untjr\\anaconda3\\envs\\x-ray\\lib\\site-packages (from tqdm) (0.4.6)\n",
      "Downloading tqdm-4.66.2-py3-none-any.whl (78 kB)\n",
      "   ---------------------------------------- 0.0/78.3 kB ? eta -:--:--\n",
      "   ---------------------------------------- 78.3/78.3 kB 4.5 MB/s eta 0:00:00\n",
      "Installing collected packages: tqdm\n",
      "Successfully installed tqdm-4.66.2\n",
      "Note: you may need to restart the kernel to use updated packages.\n"
     ]
    }
   ],
   "source": [
    "!pip install tqdm"
   ]
  },
  {
   "cell_type": "code",
   "execution_count": 15,
   "id": "76a78964-473c-4f34-a5ea-3fd40ef3bfbb",
   "metadata": {},
   "outputs": [
    {
     "name": "stdout",
     "output_type": "stream",
     "text": [
      "Collecting lxml\n",
      "  Downloading lxml-5.1.0-cp38-cp38-win_amd64.whl.metadata (3.6 kB)\n",
      "Downloading lxml-5.1.0-cp38-cp38-win_amd64.whl (3.9 MB)\n",
      "   ---------------------------------------- 0.0/3.9 MB ? eta -:--:--\n",
      "   ---------------------------------------- 0.0/3.9 MB 653.6 kB/s eta 0:00:06\n",
      "   --------- ------------------------------ 1.0/3.9 MB 10.2 MB/s eta 0:00:01\n",
      "   -------------------------------- ------- 3.1/3.9 MB 22.2 MB/s eta 0:00:01\n",
      "   ---------------------------------------- 3.9/3.9 MB 22.7 MB/s eta 0:00:00\n",
      "Installing collected packages: lxml\n",
      "Successfully installed lxml-5.1.0\n"
     ]
    }
   ],
   "source": [
    "!pip install lxml"
   ]
  },
  {
   "cell_type": "markdown",
   "id": "08996972-0db7-4eb7-b8ae-56b89a600e10",
   "metadata": {},
   "source": [
    "# 데이터 종류 및 개수 확인"
   ]
  },
  {
   "cell_type": "markdown",
   "id": "4f8010ba-8648-4009-b676-bac1529891be",
   "metadata": {},
   "source": [
    "## 1. 기존 데이터셋 확인 "
   ]
  },
  {
   "cell_type": "code",
   "execution_count": 3,
   "id": "21d2e8ab-b70b-4697-a4f3-c63519644d09",
   "metadata": {},
   "outputs": [
    {
     "name": "stdout",
     "output_type": "stream",
     "text": [
      "Collecting torch\n",
      "  Downloading torch-2.2.1-cp38-cp38-win_amd64.whl.metadata (26 kB)\n",
      "Collecting torchvision\n",
      "  Downloading torchvision-0.17.1-cp38-cp38-win_amd64.whl.metadata (6.6 kB)\n",
      "Collecting torchaudio\n",
      "  Downloading torchaudio-2.2.1-cp38-cp38-win_amd64.whl.metadata (6.4 kB)\n",
      "Collecting filelock (from torch)\n",
      "  Downloading filelock-3.13.1-py3-none-any.whl.metadata (2.8 kB)\n",
      "Requirement already satisfied: typing-extensions>=4.8.0 in c:\\users\\untjr\\anaconda3\\envs\\x-ray\\lib\\site-packages (from torch) (4.9.0)\n",
      "Collecting sympy (from torch)\n",
      "  Downloading sympy-1.12-py3-none-any.whl.metadata (12 kB)\n",
      "Collecting networkx (from torch)\n",
      "  Downloading networkx-3.1-py3-none-any.whl.metadata (5.3 kB)\n",
      "Requirement already satisfied: jinja2 in c:\\users\\untjr\\anaconda3\\envs\\x-ray\\lib\\site-packages (from torch) (3.1.3)\n",
      "Collecting fsspec (from torch)\n",
      "  Downloading fsspec-2024.2.0-py3-none-any.whl.metadata (6.8 kB)\n",
      "Requirement already satisfied: numpy in c:\\users\\untjr\\anaconda3\\envs\\x-ray\\lib\\site-packages (from torchvision) (1.24.4)\n",
      "Requirement already satisfied: pillow!=8.3.*,>=5.3.0 in c:\\users\\untjr\\anaconda3\\envs\\x-ray\\lib\\site-packages (from torchvision) (10.2.0)\n",
      "Requirement already satisfied: MarkupSafe>=2.0 in c:\\users\\untjr\\anaconda3\\envs\\x-ray\\lib\\site-packages (from jinja2->torch) (2.1.3)\n",
      "Collecting mpmath>=0.19 (from sympy->torch)\n",
      "  Downloading mpmath-1.3.0-py3-none-any.whl.metadata (8.6 kB)\n",
      "Downloading torch-2.2.1-cp38-cp38-win_amd64.whl (198.6 MB)\n",
      "   ---------------------------------------- 0.0/198.6 MB ? eta -:--:--\n",
      "   ---------------------------------------- 2.5/198.6 MB 52.3 MB/s eta 0:00:04\n",
      "   - -------------------------------------- 5.4/198.6 MB 57.6 MB/s eta 0:00:04\n",
      "   - -------------------------------------- 8.3/198.6 MB 59.2 MB/s eta 0:00:04\n",
      "   -- ------------------------------------- 11.2/198.6 MB 59.5 MB/s eta 0:00:04\n",
      "   -- ------------------------------------- 14.1/198.6 MB 59.5 MB/s eta 0:00:04\n",
      "   --- ------------------------------------ 17.0/198.6 MB 59.5 MB/s eta 0:00:04\n",
      "   --- ------------------------------------ 18.9/198.6 MB 59.5 MB/s eta 0:00:04\n",
      "   --- ------------------------------------ 18.9/198.6 MB 59.5 MB/s eta 0:00:04\n",
      "   ---- ----------------------------------- 20.6/198.6 MB 40.9 MB/s eta 0:00:05\n",
      "   ---- ----------------------------------- 23.6/198.6 MB 40.9 MB/s eta 0:00:05\n",
      "   ----- ---------------------------------- 25.4/198.6 MB 38.6 MB/s eta 0:00:05\n",
      "   ----- ---------------------------------- 28.4/198.6 MB 38.6 MB/s eta 0:00:05\n",
      "   ------ --------------------------------- 31.2/198.6 MB 54.7 MB/s eta 0:00:04\n",
      "   ------ --------------------------------- 33.8/198.6 MB 54.4 MB/s eta 0:00:04\n",
      "   ------- -------------------------------- 37.1/198.6 MB 59.5 MB/s eta 0:00:03\n",
      "   -------- ------------------------------- 40.1/198.6 MB 59.5 MB/s eta 0:00:03\n",
      "   -------- ------------------------------- 43.0/198.6 MB 59.5 MB/s eta 0:00:03\n",
      "   --------- ------------------------------ 45.9/198.6 MB 59.8 MB/s eta 0:00:03\n",
      "   --------- ------------------------------ 48.9/198.6 MB 59.5 MB/s eta 0:00:03\n",
      "   ---------- ----------------------------- 51.8/198.6 MB 59.5 MB/s eta 0:00:03\n",
      "   ----------- ---------------------------- 54.7/198.6 MB 59.5 MB/s eta 0:00:03\n",
      "   ----------- ---------------------------- 57.6/198.6 MB 59.5 MB/s eta 0:00:03\n",
      "   ------------ --------------------------- 60.5/198.6 MB 59.5 MB/s eta 0:00:03\n",
      "   ------------ --------------------------- 62.9/198.6 MB 65.6 MB/s eta 0:00:03\n",
      "   ------------ --------------------------- 63.7/198.6 MB 50.1 MB/s eta 0:00:03\n",
      "   ------------- -------------------------- 66.6/198.6 MB 50.4 MB/s eta 0:00:03\n",
      "   ------------- -------------------------- 69.4/198.6 MB 50.4 MB/s eta 0:00:03\n",
      "   -------------- ------------------------- 72.3/198.6 MB 46.7 MB/s eta 0:00:03\n",
      "   --------------- ------------------------ 75.2/198.6 MB 59.5 MB/s eta 0:00:03\n",
      "   --------------- ------------------------ 78.2/198.6 MB 59.5 MB/s eta 0:00:03\n",
      "   ---------------- ----------------------- 81.1/198.6 MB 59.5 MB/s eta 0:00:02\n",
      "   ---------------- ----------------------- 84.1/198.6 MB 65.2 MB/s eta 0:00:02\n",
      "   ----------------- ---------------------- 86.9/198.6 MB 59.5 MB/s eta 0:00:02\n",
      "   ------------------ --------------------- 89.9/198.6 MB 65.6 MB/s eta 0:00:02\n",
      "   ------------------ --------------------- 92.9/198.6 MB 65.6 MB/s eta 0:00:02\n",
      "   ------------------- -------------------- 95.8/198.6 MB 65.6 MB/s eta 0:00:02\n",
      "   ------------------- -------------------- 98.5/198.6 MB 59.5 MB/s eta 0:00:02\n",
      "   ------------------- ------------------- 101.6/198.6 MB 65.6 MB/s eta 0:00:02\n",
      "   -------------------- ------------------ 104.3/198.6 MB 59.5 MB/s eta 0:00:02\n",
      "   --------------------- ----------------- 107.3/198.6 MB 59.5 MB/s eta 0:00:02\n",
      "   --------------------- ----------------- 110.1/198.6 MB 59.5 MB/s eta 0:00:02\n",
      "   ---------------------- ---------------- 113.0/198.6 MB 59.8 MB/s eta 0:00:02\n",
      "   ---------------------- ---------------- 115.9/198.6 MB 59.5 MB/s eta 0:00:02\n",
      "   ----------------------- --------------- 118.8/198.6 MB 59.5 MB/s eta 0:00:02\n",
      "   ----------------------- --------------- 121.7/198.6 MB 59.5 MB/s eta 0:00:02\n",
      "   ------------------------ -------------- 124.5/198.6 MB 59.5 MB/s eta 0:00:02\n",
      "   ------------------------ -------------- 125.8/198.6 MB 65.2 MB/s eta 0:00:02\n",
      "   ------------------------ -------------- 125.8/198.6 MB 65.2 MB/s eta 0:00:02\n",
      "   ------------------------- ------------- 128.7/198.6 MB 43.5 MB/s eta 0:00:02\n",
      "   ------------------------- ------------- 131.7/198.6 MB 43.7 MB/s eta 0:00:02\n",
      "   -------------------------- ------------ 134.7/198.6 MB 43.7 MB/s eta 0:00:02\n",
      "   --------------------------- ----------- 137.7/198.6 MB 65.6 MB/s eta 0:00:01\n",
      "   --------------------------- ----------- 140.6/198.6 MB 65.6 MB/s eta 0:00:01\n",
      "   ---------------------------- ---------- 143.6/198.6 MB 65.6 MB/s eta 0:00:01\n",
      "   ---------------------------- ---------- 146.5/198.6 MB 65.6 MB/s eta 0:00:01\n",
      "   ----------------------------- --------- 149.4/198.6 MB 59.5 MB/s eta 0:00:01\n",
      "   ----------------------------- --------- 152.3/198.6 MB 65.2 MB/s eta 0:00:01\n",
      "   ------------------------------ -------- 155.3/198.6 MB 65.6 MB/s eta 0:00:01\n",
      "   ------------------------------- ------- 158.2/198.6 MB 65.6 MB/s eta 0:00:01\n",
      "   ------------------------------- ------- 161.1/198.6 MB 65.6 MB/s eta 0:00:01\n",
      "   -------------------------------- ------ 164.1/198.6 MB 65.6 MB/s eta 0:00:01\n",
      "   -------------------------------- ------ 167.1/198.6 MB 65.6 MB/s eta 0:00:01\n",
      "   --------------------------------- ----- 169.9/198.6 MB 65.6 MB/s eta 0:00:01\n",
      "   --------------------------------- ----- 172.9/198.6 MB 65.2 MB/s eta 0:00:01\n",
      "   ---------------------------------- ---- 175.7/198.6 MB 65.2 MB/s eta 0:00:01\n",
      "   ----------------------------------- --- 178.6/198.6 MB 65.6 MB/s eta 0:00:01\n",
      "   ----------------------------------- --- 181.5/198.6 MB 65.6 MB/s eta 0:00:01\n",
      "   ------------------------------------ -- 184.4/198.6 MB 65.6 MB/s eta 0:00:01\n",
      "   ------------------------------------ -- 187.3/198.6 MB 65.6 MB/s eta 0:00:01\n",
      "   ------------------------------------- - 190.3/198.6 MB 65.6 MB/s eta 0:00:01\n",
      "   ------------------------------------- - 193.2/198.6 MB 65.6 MB/s eta 0:00:01\n",
      "   --------------------------------------  196.1/198.6 MB 65.2 MB/s eta 0:00:01\n",
      "   --------------------------------------  198.6/198.6 MB 59.5 MB/s eta 0:00:01\n",
      "   --------------------------------------  198.6/198.6 MB 59.5 MB/s eta 0:00:01\n",
      "   --------------------------------------  198.6/198.6 MB 59.5 MB/s eta 0:00:01\n",
      "   --------------------------------------  198.6/198.6 MB 59.5 MB/s eta 0:00:01\n",
      "   --------------------------------------  198.6/198.6 MB 59.5 MB/s eta 0:00:01\n",
      "   --------------------------------------- 198.6/198.6 MB 27.3 MB/s eta 0:00:00\n",
      "Downloading torchvision-0.17.1-cp38-cp38-win_amd64.whl (1.2 MB)\n",
      "   ---------------------------------------- 0.0/1.2 MB ? eta -:--:--\n",
      "   ---------------------------------------- 1.2/1.2 MB 36.1 MB/s eta 0:00:00\n",
      "Downloading torchaudio-2.2.1-cp38-cp38-win_amd64.whl (2.4 MB)\n",
      "   ---------------------------------------- 0.0/2.4 MB ? eta -:--:--\n",
      "   ---------------------------------------- 2.4/2.4 MB 50.2 MB/s eta 0:00:00\n",
      "Downloading filelock-3.13.1-py3-none-any.whl (11 kB)\n",
      "Downloading fsspec-2024.2.0-py3-none-any.whl (170 kB)\n",
      "   ---------------------------------------- 0.0/170.9 kB ? eta -:--:--\n",
      "   ---------------------------------------- 170.9/170.9 kB ? eta 0:00:00\n",
      "Downloading networkx-3.1-py3-none-any.whl (2.1 MB)\n",
      "   ---------------------------------------- 0.0/2.1 MB ? eta -:--:--\n",
      "   ---------------------------------------- 2.1/2.1 MB 43.9 MB/s eta 0:00:00\n",
      "Downloading sympy-1.12-py3-none-any.whl (5.7 MB)\n",
      "   ---------------------------------------- 0.0/5.7 MB ? eta -:--:--\n",
      "   --------------------- ------------------ 3.0/5.7 MB 64.5 MB/s eta 0:00:01\n",
      "   ---------------------------------------  5.7/5.7 MB 60.9 MB/s eta 0:00:01\n",
      "   ---------------------------------------- 5.7/5.7 MB 52.1 MB/s eta 0:00:00\n",
      "Downloading mpmath-1.3.0-py3-none-any.whl (536 kB)\n",
      "   ---------------------------------------- 0.0/536.2 kB ? eta -:--:--\n",
      "   --------------------------------------- 536.2/536.2 kB 32.9 MB/s eta 0:00:00\n",
      "Installing collected packages: mpmath, sympy, networkx, fsspec, filelock, torch, torchvision, torchaudio\n",
      "Successfully installed filelock-3.13.1 fsspec-2024.2.0 mpmath-1.3.0 networkx-3.1 sympy-1.12 torch-2.2.1 torchaudio-2.2.1 torchvision-0.17.1\n"
     ]
    }
   ],
   "source": [
    "!pip install torch torchvision torchaudio"
   ]
  },
  {
   "cell_type": "code",
   "execution_count": 6,
   "id": "c5063820-44fd-40e6-ae35-54f5816d055b",
   "metadata": {},
   "outputs": [],
   "source": [
    "from PIL import Image\n",
    "import matplotlib.pylab as plt"
   ]
  },
  {
   "cell_type": "code",
   "execution_count": 7,
   "id": "0d6f23b3-7d06-4640-8adb-25fc7c2d8462",
   "metadata": {},
   "outputs": [
    {
     "data": {
      "image/png": "[encoded data removed]",
      "text/plain": [
       "<Figure size 640x480 with 1 Axes>"
      ]
     },
     "metadata": {},
     "output_type": "display_data"
    }
   ],
   "source": [
    "i = Image.open('C:/test1/yolov3/X선이물검출기(06.23_09.22)/1호기(2020.09.22)/SN77128_20200622_NgImage/002_20200622_203053(2).bmp')\n",
    " # 진짜...이거 시작부터 눈이 박살나는 구\n",
    "plt.imshow(i)\n",
    "plt.show()"
   ]
  },
  {
   "cell_type": "markdown",
   "id": "99b626d0-fc9d-40c6-b966-9d36a6bd0360",
   "metadata": {},
   "source": [
    "## 2. 데이터셋 재정리"
   ]
  },
  {
   "cell_type": "markdown",
   "id": "2a5ec279-ed99-4142-928d-56dcd0f64579",
   "metadata": {},
   "source": [
    "진짜 여기서 얼마를 소비한거냐....."
   ]
  },
  {
   "cell_type": "code",
   "execution_count": 8,
   "id": "359b3bf5-6843-4b76-8d79-a94f61403546",
   "metadata": {},
   "outputs": [
    {
     "name": "stdout",
     "output_type": "stream",
     "text": [
      "모든 .bmp 파일이 성공적으로 복사되었습니다.\n"
     ]
    }
   ],
   "source": [
    "import os\n",
    "import shutil\n",
    "\n",
    "# 원본 이미지가 저장된 디렉토리의 경로\n",
    "source_dir = 'C:/test1/yolov3/X선이물검출기(06.23_09.22)'\n",
    "\n",
    "# 새로운 디렉토리 경로\n",
    "target_dir_base = 'C:/test1/yolov3/X선이물검출기'\n",
    "\n",
    "# 원본 디렉토리에서 각 '호기(2020.09.22)' 폴더를 순회\n",
    "for i, ho_folder in enumerate(sorted(os.listdir(source_dir))):\n",
    "    ho_folder_path = os.path.join(source_dir, ho_folder)\n",
    "    \n",
    "    # '호기' 폴더 내부를 확인하여 'NgImage' 폴더가 있는지 검사\n",
    "    if os.path.isdir(ho_folder_path):\n",
    "        for ng_folder in os.listdir(ho_folder_path):\n",
    "            if 'NgImage' in ng_folder:\n",
    "                ng_folder_path = os.path.join(ho_folder_path, ng_folder)\n",
    "                \n",
    "                # 해당 'NgImage' 폴더 내의 파일들을 복사할 새로운 '호기' 폴더 생성\n",
    "                target_ho_folder = os.path.join(target_dir_base, f\"{i+1}호기\")\n",
    "                os.makedirs(target_ho_folder, exist_ok=True)\n",
    "                \n",
    "                # 'NgImage' 폴더 내의 파일들을 새로운 위치로 복사\n",
    "                for file in os.listdir(ng_folder_path):\n",
    "                    source_file_path = os.path.join(ng_folder_path, file)\n",
    "                    target_file_path = os.path.join(target_ho_folder, file)\n",
    "                    shutil.copy(source_file_path, target_file_path)\n",
    "\n",
    "print(\"모든 .bmp 파일이 성공적으로 복사되었습니다.\")\n"
   ]
  },
  {
   "cell_type": "code",
   "execution_count": 9,
   "id": "13892f8f-55f3-4c34-86d7-c61d7faa211a",
   "metadata": {},
   "outputs": [
    {
     "data": {
      "image/png": "[encoded data removed]",
      "text/plain": [
       "<Figure size 640x480 with 1 Axes>"
      ]
     },
     "metadata": {},
     "output_type": "display_data"
    }
   ],
   "source": [
    "im = Image.open('C:/test1/yolov3/X선이물검출기/1호기/002_20200622_203053(2).bmp')\n",
    "\n",
    "plt.imshow(im)\n",
    "plt.show()"
   ]
  },
  {
   "cell_type": "markdown",
   "id": "b3db65ab-fda7-46c2-8db8-2a9a85090dc9",
   "metadata": {},
   "source": [
    "# [단계 ③] 데이터 정제(전처리)"
   ]
  },
  {
   "cell_type": "code",
   "execution_count": 16,
   "id": "e3edaaf0-e4ad-48d3-9dc3-3d6dc009e38d",
   "metadata": {},
   "outputs": [
    {
     "name": "stdout",
     "output_type": "stream",
     "text": [
      "-> Please ignore this error message\n",
      "\n",
      "Showing image 0/227, path: input\\001_20200622_203305(8).jpg\n",
      "Welcome!\n",
      " Press [h] for help.\n",
      "Showing image 1/227, path: input\\001_20200622_203309(1).jpg\n",
      "Showing image 2/227, path: input\\001_20200622_203312(6).jpg\n",
      "Showing image 3/227, path: input\\001_20200622_203316(0).jpg\n",
      "Showing image 4/227, path: input\\001_20200622_203319(4).jpg\n",
      "Showing image 5/227, path: input\\001_20200622_203330(3).jpg\n",
      "Showing image 7/227, path: input\\001_20200623_003520(5).jpg\n",
      "Showing image 8/227, path: input\\001_20200623_003524(0).jpg\n",
      "Showing image 10/227, path: input\\001_20200623_003532(5).jpg\n",
      "Showing image 11/227, path: input\\001_20200623_003536(0).jpg\n",
      "Showing image 13/227, path: input\\001_20200623_043231(6).jpg\n",
      "Showing image 14/227, path: input\\001_20200623_043236(1).jpg\n",
      "Showing image 15/227, path: input\\001_20200623_043240(6).jpg\n",
      "Showing image 16/227, path: input\\001_20200623_043245(2).jpg\n",
      "Showing image 17/227, path: input\\001_20200623_043249(6).jpg\n",
      "Showing image 19/227, path: input\\001_20200623_082411(0).jpg\n",
      "Showing image 21/227, path: input\\001_20200623_082416(7).jpg\n",
      "Showing image 23/227, path: input\\001_20200623_082422(5).jpg\n",
      "Showing image 24/227, path: input\\001_20200623_123214(3).jpg\n",
      "Showing image 26/227, path: input\\001_20200623_123232(3).jpg\n",
      "Showing image 27/227, path: input\\001_20200623_123236(9).jpg\n",
      "Showing image 28/227, path: input\\001_20200623_123241(3).jpg\n",
      "Showing image 29/227, path: input\\001_20200623_123245(8).jpg\n",
      "Showing image 31/227, path: input\\001_20200623_163209(3).jpg\n",
      "Showing image 32/227, path: input\\001_20200623_163212(9).jpg\n",
      "Showing image 34/227, path: input\\001_20200623_163219(5).jpg\n",
      "Showing image 37/227, path: input\\001_20200623_203222(0).jpg\n",
      "Showing image 38/227, path: input\\001_20200623_203226(3).jpg\n",
      "Showing image 40/227, path: input\\001_20200623_203235(3).jpg\n",
      "Showing image 44/227, path: input\\001_20200624_003247(7).jpg\n",
      "Showing image 45/227, path: input\\001_20200624_003251(1).jpg\n",
      "Showing image 46/227, path: input\\001_20200624_003254(3).jpg\n",
      "Showing image 48/227, path: input\\001_20200624_043315(2).jpg\n",
      "Showing image 51/227, path: input\\001_20200624_043333(2).jpg\n",
      "Showing image 52/227, path: input\\001_20200624_043337(8).jpg\n",
      "Showing image 55/227, path: input\\001_20200624_083153(8).jpg\n",
      "Showing image 56/227, path: input\\001_20200624_083156(9).jpg\n",
      "Showing image 61/227, path: input\\001_20200624_123317(8).jpg\n",
      "Showing image 63/227, path: input\\001_20200624_123326(6).jpg\n",
      "Showing image 67/227, path: input\\001_20200624_162821(2).jpg\n",
      "Showing image 68/227, path: input\\001_20200624_162831(2).jpg\n",
      "Showing image 73/227, path: input\\001_20200624_203154(3).jpg\n",
      "Showing image 74/227, path: input\\001_20200624_203203(1).jpg\n",
      "Showing image 76/227, path: input\\001_20200624_203212(2).jpg\n",
      "Showing image 77/227, path: input\\001_20200624_203225(8).jpg\n",
      "Showing image 78/227, path: input\\001_20200625_003507(0).jpg\n",
      "Showing image 80/227, path: input\\001_20200625_003515(9).jpg\n",
      "Showing image 81/227, path: input\\001_20200625_003520(4).jpg\n",
      "Showing image 87/227, path: input\\001_20200625_043341(7).jpg\n",
      "Showing image 88/227, path: input\\001_20200625_043346(2).jpg\n",
      "Showing image 89/227, path: input\\001_20200625_043359(8).jpg\n",
      "Showing image 91/227, path: input\\001_20200629_082828(0).jpg\n",
      "Showing image 92/227, path: input\\001_20200629_082831(0).jpg\n",
      "Showing image 95/227, path: input\\001_20200629_082840(2).jpg\n",
      "Showing image 101/227, path: input\\001_20200629_123125(2).jpg\n",
      "Showing image 102/227, path: input\\001_20200629_123129(6).jpg\n",
      "Showing image 103/227, path: input\\001_20200629_163728(4).jpg\n",
      "Showing image 104/227, path: input\\001_20200629_163732(9).jpg\n",
      "Showing image 107/227, path: input\\001_20200629_163746(6).jpg\n",
      "Showing image 109/227, path: input\\001_20200629_202802(6).jpg\n",
      "Showing image 110/227, path: input\\001_20200629_202807(1).jpg\n",
      "Showing image 111/227, path: input\\001_20200629_202811(5).jpg\n",
      "Showing image 116/227, path: input\\001_20200630_003010(8).jpg\n",
      "Showing image 117/227, path: input\\001_20200630_003015(1).jpg\n",
      "Showing image 119/227, path: input\\001_20200630_003024(2).jpg\n",
      "Showing image 120/227, path: input\\001_20200630_003033(2).jpg\n",
      "Showing image 122/227, path: input\\001_20200630_043538(1).jpg\n",
      "Showing image 123/227, path: input\\001_20200630_043544(2).jpg\n",
      "Showing image 128/227, path: input\\001_20200630_083322(2).jpg\n",
      "Showing image 130/227, path: input\\001_20200630_083350(7).jpg\n",
      "Showing image 133/227, path: input\\001_20200630_123334(2).jpg\n",
      "Showing image 137/227, path: input\\001_20200630_123352(1).jpg\n",
      "Showing image 138/227, path: input\\001_20200630_123423(6).jpg\n",
      "Showing image 139/227, path: input\\001_20200630_123426(8).jpg\n",
      "Showing image 140/227, path: input\\001_20200630_163111(8).jpg\n",
      "Showing image 142/227, path: input\\001_20200630_163120(7).jpg\n",
      "Showing image 147/227, path: input\\001_20200630_203200(3).jpg\n",
      "Showing image 148/227, path: input\\001_20200630_203205(0).jpg\n",
      "Showing image 149/227, path: input\\001_20200630_203209(3).jpg\n",
      "Showing image 152/227, path: input\\001_20200630_203222(8).jpg\n",
      "Showing image 156/227, path: input\\001_20200701_004150(6).jpg\n",
      "Showing image 157/227, path: input\\001_20200701_004155(1).jpg\n",
      "Showing image 158/227, path: input\\001_20200701_004159(7).jpg\n",
      "Showing image 159/227, path: input\\001_20200701_043236(2).jpg\n",
      "Showing image 161/227, path: input\\001_20200701_043249(7).jpg\n",
      "Showing image 165/227, path: input\\001_20200701_083251(9).jpg\n",
      "Showing image 166/227, path: input\\001_20200701_083256(5).jpg\n",
      "Showing image 167/227, path: input\\001_20200701_083300(7).jpg\n",
      "Showing image 169/227, path: input\\001_20200701_083323(2).jpg\n",
      "Showing image 172/227, path: input\\001_20200701_123511(0).jpg\n",
      "Showing image 173/227, path: input\\001_20200701_123514(1).jpg\n",
      "Showing image 174/227, path: input\\001_20200701_123517(3).jpg\n",
      "Showing image 176/227, path: input\\001_20200701_123523(9).jpg\n",
      "Showing image 179/227, path: input\\001_20200701_163121(1).jpg\n",
      "Showing image 180/227, path: input\\001_20200701_163140(2).jpg\n",
      "Showing image 181/227, path: input\\001_20200701_163144(5).jpg\n",
      "Showing image 183/227, path: input\\001_20200701_203552(7).jpg\n",
      "Showing image 185/227, path: input\\001_20200701_203601(8).jpg\n",
      "Showing image 186/227, path: input\\001_20200701_203606(3).jpg\n",
      "Showing image 187/227, path: input\\001_20200701_203610(7).jpg\n",
      "Showing image 188/227, path: input\\001_20200701_203615(2).jpg\n",
      "Showing image 190/227, path: input\\001_20200702_003140(4).jpg\n",
      "Showing image 192/227, path: input\\001_20200702_003154(0).jpg\n",
      "Showing image 195/227, path: input\\001_20200702_043956(5).jpg\n",
      "Showing image 196/227, path: input\\001_20200702_043959(8).jpg\n",
      "Showing image 198/227, path: input\\001_20200702_044006(3).jpg\n",
      "Showing image 199/227, path: input\\001_20200702_044009(8).jpg\n",
      "Showing image 202/227, path: input\\001_20200922_163332(2).jpg\n",
      "Showing image 203/227, path: input\\002_20200622_203053(2).bmp\n",
      "Showing image 206/227, path: input\\002_20200622_203105(4).bmp\n",
      "Showing image 207/227, path: input\\002_20200622_203109(3).bmp\n",
      "Showing image 209/227, path: input\\002_20200623_003346(4).bmp\n",
      "Showing image 211/227, path: input\\002_20200623_003354(3).bmp\n",
      "Showing image 212/227, path: input\\002_20200623_003358(2).bmp\n",
      "Showing image 215/227, path: input\\002_20200623_043039(3).bmp\n",
      "Showing image 218/227, path: input\\002_20200714_043029(1).jpg\n",
      "Showing image 220/227, path: input\\002_20200831_083545(0).jpg\n",
      "Showing image 221/227, path: input\\002_20200831_123134(5).jpg\n",
      "Showing image 223/227, path: input\\002_20200915_003459(4).jpg\n",
      "Showing image 224/227, path: input\\002_20200917_043110(7).jpg\n",
      "Showing image 226/227, path: input\\002_20200917_203001(5).jpg\n",
      "Showing image 227/227, path: input\\002_20200922_083747(7).jpg\n"
     ]
    }
   ],
   "source": [
    "# labeling tool을 실행합니다.\n",
    "# (로컫디스크 C에 Labeling tool폴더를 옮겨놓으셔야 합니다.)\n",
    "# \"C:/OpenLabeling-masterwmainWinput\"경로에 라벧링할 이미지들을 옮겨 놓습니다.\n",
    "!python C:/OpenLabeling-master/main/main.py"
   ]
  },
  {
   "cell_type": "markdown",
   "id": "77defb98-68bf-4194-b23c-78dc8736d694",
   "metadata": {},
   "source": [
    "1호기에 1~15번까지 데이터를 복사해서 input 폴더에 옮겨두었습니다."
   ]
  },
  {
   "cell_type": "markdown",
   "id": "e327ed16-8320-4d9a-b08e-38ad5fc8e50f",
   "metadata": {},
   "source": [
    "# [단계 ④] 데이터 특성 파악"
   ]
  },
  {
   "cell_type": "markdown",
   "id": "2cb15fc3-6a66-4912-af0b-18d1d7763bf7",
   "metadata": {},
   "source": [
    "## 1. 라벨링된 이미지 데이터 확인 및 라벨 관련 좌표 확인"
   ]
  },
  {
   "cell_type": "markdown",
   "id": "5bdff266-07a9-4703-9f98-b756f7fa7d33",
   "metadata": {},
   "source": [
    "- 라벨링 작업을 수행한 후 기존 이미지 파일과 라벨링 작업을 통해 구한 좌표 텍스트 파일은 다음과 같다.\n",
    "\n",
    "- 상단은 원본 이미지의 일부로 [OpenLabeling-master > main > input] 폴더에 위치하고, \n",
    "하단은 라벨링 좌표(x, y, h, w)가 포함된 텍스트 파일로 [OpenLabeling-master > main > output > YOLO_darknet] 폴더에 위치한다."
   ]
  },
  {
   "cell_type": "markdown",
   "id": "c049f0ae-c654-43d7-aa1b-f3c16e6e23fa",
   "metadata": {},
   "source": [
    "## 2. 라벨링 결과물 이동 및 확장자 변환하기"
   ]
  },
  {
   "cell_type": "code",
   "execution_count": 16,
   "id": "b33b86a8-ee01-49ac-b3c6-c96c203be9c2",
   "metadata": {},
   "outputs": [
    {
     "name": "stdout",
     "output_type": "stream",
     "text": [
      "C:\\test1\\yolov3\\images\n"
     ]
    }
   ],
   "source": [
    "%cd C:/test1/yolov3/images\n",
    "!ren *.* *.jpg*"
   ]
  },
  {
   "cell_type": "markdown",
   "id": "5989968e-af33-47f4-aa3e-31b05abb97a6",
   "metadata": {},
   "source": [
    "# [단계 ⑤] 학습/평가 데이터 분리"
   ]
  },
  {
   "cell_type": "markdown",
   "id": "2663fdcd-0fd9-4ef2-99de-de2b746894fe",
   "metadata": {},
   "source": [
    "## 1. 학습 및 평가 데이터 구분"
   ]
  },
  {
   "cell_type": "code",
   "execution_count": 17,
   "id": "545a84bf-758c-4919-9a9a-1355ff553e6d",
   "metadata": {},
   "outputs": [
    {
     "name": "stdout",
     "output_type": "stream",
     "text": [
      "C:\\test1\\yolov3\n"
     ]
    }
   ],
   "source": [
    "%cd C:/test1/yolov3"
   ]
  },
  {
   "cell_type": "code",
   "execution_count": 18,
   "id": "b391c6d8-6e18-4445-969f-8b9721a6b2a6",
   "metadata": {},
   "outputs": [],
   "source": [
    "import random\n",
    "import os\n",
    "import subprocess\n",
    "import sys"
   ]
  },
  {
   "cell_type": "code",
   "execution_count": 19,
   "id": "35a64d82-6280-4f54-9bce-43587632e551",
   "metadata": {},
   "outputs": [],
   "source": [
    "import os\n",
    "import random\n",
    "\n",
    "def split_data_set(image_dir):\n",
    "    # 테스트 세트를 저장할 파일을 'test.txt'로, 훈련 세트를 저장할 파일을 'train.txt'로 엽니다.\n",
    "    f_val = open(\"test.txt\", 'w')\n",
    "    f_train = open(\"train.txt\", 'w')\n",
    "\n",
    "    # 지정된 디렉토리에서 파일 목록을 가져옵니다.\n",
    "    path, dirs, files = next(os.walk(image_dir))\n",
    "    data_size = len(files)  # 전체 데이터 크기를 계산합니다.\n",
    "\n",
    "    ind = 0\n",
    "    data_test_size = int(0.2 * data_size)  # 전체 데이터의 20%를 테스트 세트 크기로 설정합니다.\n",
    "    test_array = random.sample(range(data_size), k=data_test_size)  # 테스트 세트에 사용할 파일 인덱스를 무작위로 선택합니다.\n",
    "\n",
    "    # 디렉토리 내의 모든 파일을 순회합니다.\n",
    "    for f in os.listdir(image_dir):\n",
    "        if f.endswith('.jpg'):  # 파일 확장자가 .jpg인 경우만 처리합니다.\n",
    "            ind += 1\n",
    "\n",
    "            # 파일 인덱스가 테스트 배열에 포함되어 있으면 테스트 세트로, 그렇지 않으면 훈련 세트로 분류합니다.\n",
    "            if ind in test_array:\n",
    "                f_val.write(image_dir + '/' + f + '\\n')  # 테스트 세트 파일에 이미지 경로를 기록합니다.\n",
    "            else:\n",
    "                f_train.write(image_dir + '/' + f + '\\n')  # 훈련 세트 파일에 이미지 경로를 기록합니다.\n",
    "\n",
    "    # 파일을 닫아 리소스를 해제합니다.\n",
    "    f_val.close()\n",
    "    f_train.close()"
   ]
  },
  {
   "cell_type": "raw",
   "id": "916af69f-db5a-412a-b36f-04e5cc962a57",
   "metadata": {},
   "source": [
    "def split_data_set(image_dir):\n",
    "\n",
    "    f_val = open(\"test.text\", 'w')\n",
    "    f_train = open(\"test.train\", 'w')\n",
    "\n",
    "    path, dirs, files = next(os.walk(image_dir))\n",
    "    data_size = len(files)\n",
    "\n",
    "    ind =0\n",
    "    data_test_size = int(0.2 * data_size)\n",
    "    test_array = random.sample(range(data_size), k=data_test_size)\n",
    "\n",
    "    for f in os.listdir(image_dir):\n",
    "        if(f.split('.jp')[1] == 'g'):\n",
    "            ind +=1\n",
    "\n",
    "            if ind in test_array:\n",
    "                f_val.write(image_dir+'/'+f+'Wn')\n",
    "            else:\n",
    "                f_train.write(image_dir+'/'+f+'wn')"
   ]
  },
  {
   "cell_type": "code",
   "execution_count": 20,
   "id": "1e070d74-ccf0-4934-b3cf-d0f274d3bbbc",
   "metadata": {},
   "outputs": [],
   "source": [
    "image_dir=\"C:/test1/yolov3/images\""
   ]
  },
  {
   "cell_type": "code",
   "execution_count": 21,
   "id": "b192e0a6-62fa-41c8-af1d-808a195d7ece",
   "metadata": {},
   "outputs": [],
   "source": [
    "split_data_set(image_dir)"
   ]
  },
  {
   "cell_type": "raw",
   "id": "ffb355ab-cbbf-48c1-9f9f-f8335bdb4d00",
   "metadata": {},
   "source": [
    "!python splitdata.py images"
   ]
  },
  {
   "cell_type": "markdown",
   "id": "4652f9bd-3e84-4f3f-bfe3-7b0cb68b92fb",
   "metadata": {},
   "source": [
    "# [단계 ⑥] 모델 구축"
   ]
  },
  {
   "cell_type": "markdown",
   "id": "e60691af-380a-40c4-8e79-602488624e73",
   "metadata": {},
   "source": [
    "## 1. 모델 학습 수행을 위한 준비"
   ]
  },
  {
   "cell_type": "code",
   "execution_count": 22,
   "id": "50203db7-f852-44ce-9897-d2bb9f3bf743",
   "metadata": {},
   "outputs": [],
   "source": [
    "classes= 1\n",
    "train= 'C:/test1/yolov3/train.txt'\n",
    "valid= 'C:/test1/yolov3/valid.txt'\n",
    "names= 'C:/test1/yolov3/data/classes.names'"
   ]
  },
  {
   "cell_type": "markdown",
   "id": "24e646ca-b42f-4a44-8d4b-5a88c66b38c6",
   "metadata": {},
   "source": [
    "defect 로 되어있는지 다시 확인!"
   ]
  },
  {
   "cell_type": "code",
   "execution_count": 23,
   "id": "e50f71be-867c-47d3-9ab9-e2cfc512f15d",
   "metadata": {
    "scrolled": true
   },
   "outputs": [
    {
     "name": "stdout",
     "output_type": "stream",
     "text": [
      "Collecting Cython (from -r requirements.txt (line 4))\n",
      "  Downloading Cython-3.0.8-cp38-cp38-win_amd64.whl.metadata (3.2 kB)\n",
      "Requirement already satisfied: matplotlib>=3.2.2 in c:\\users\\untjr\\anaconda3\\envs\\x-ray\\lib\\site-packages (from -r requirements.txt (line 5)) (3.7.5)\n",
      "Requirement already satisfied: numpy>=1.18.5 in c:\\users\\untjr\\anaconda3\\envs\\x-ray\\lib\\site-packages (from -r requirements.txt (line 6)) (1.24.4)\n",
      "Requirement already satisfied: opencv-python>=4.1.2 in c:\\users\\untjr\\anaconda3\\envs\\x-ray\\lib\\site-packages (from -r requirements.txt (line 7)) (4.9.0.80)\n",
      "Requirement already satisfied: pillow in c:\\users\\untjr\\anaconda3\\envs\\x-ray\\lib\\site-packages (from -r requirements.txt (line 8)) (10.2.0)\n",
      "Requirement already satisfied: PyYAML>=5.3 in c:\\users\\untjr\\anaconda3\\envs\\x-ray\\lib\\site-packages (from -r requirements.txt (line 9)) (6.0.1)\n",
      "Collecting scipy>=1.4.1 (from -r requirements.txt (line 10))\n",
      "  Downloading scipy-1.10.1-cp38-cp38-win_amd64.whl.metadata (58 kB)\n",
      "     ---------------------------------------- 0.0/59.0 kB ? eta -:--:--\n",
      "     ------------------- ------------------ 30.7/59.0 kB 660.6 kB/s eta 0:00:01\n",
      "     -------------------------------------- 59.0/59.0 kB 786.1 kB/s eta 0:00:00\n",
      "Collecting tensorboard>=2.2 (from -r requirements.txt (line 11))\n",
      "  Downloading tensorboard-2.14.0-py3-none-any.whl.metadata (1.8 kB)\n",
      "Requirement already satisfied: torch>=1.6.0 in c:\\users\\untjr\\anaconda3\\envs\\x-ray\\lib\\site-packages (from -r requirements.txt (line 12)) (2.2.1)\n",
      "Requirement already satisfied: torchvision>=0.7.0 in c:\\users\\untjr\\anaconda3\\envs\\x-ray\\lib\\site-packages (from -r requirements.txt (line 13)) (0.17.1)\n",
      "Requirement already satisfied: tqdm>=4.41.0 in c:\\users\\untjr\\anaconda3\\envs\\x-ray\\lib\\site-packages (from -r requirements.txt (line 14)) (4.66.2)\n",
      "Requirement already satisfied: contourpy>=1.0.1 in c:\\users\\untjr\\anaconda3\\envs\\x-ray\\lib\\site-packages (from matplotlib>=3.2.2->-r requirements.txt (line 5)) (1.1.1)\n",
      "Requirement already satisfied: cycler>=0.10 in c:\\users\\untjr\\anaconda3\\envs\\x-ray\\lib\\site-packages (from matplotlib>=3.2.2->-r requirements.txt (line 5)) (0.12.1)\n",
      "Requirement already satisfied: fonttools>=4.22.0 in c:\\users\\untjr\\anaconda3\\envs\\x-ray\\lib\\site-packages (from matplotlib>=3.2.2->-r requirements.txt (line 5)) (4.49.0)\n",
      "Requirement already satisfied: kiwisolver>=1.0.1 in c:\\users\\untjr\\anaconda3\\envs\\x-ray\\lib\\site-packages (from matplotlib>=3.2.2->-r requirements.txt (line 5)) (1.4.5)\n",
      "Requirement already satisfied: packaging>=20.0 in c:\\users\\untjr\\anaconda3\\envs\\x-ray\\lib\\site-packages (from matplotlib>=3.2.2->-r requirements.txt (line 5)) (23.1)\n",
      "Requirement already satisfied: pyparsing>=2.3.1 in c:\\users\\untjr\\anaconda3\\envs\\x-ray\\lib\\site-packages (from matplotlib>=3.2.2->-r requirements.txt (line 5)) (3.1.1)\n",
      "Requirement already satisfied: python-dateutil>=2.7 in c:\\users\\untjr\\anaconda3\\envs\\x-ray\\lib\\site-packages (from matplotlib>=3.2.2->-r requirements.txt (line 5)) (2.8.2)\n",
      "Requirement already satisfied: importlib-resources>=3.2.0 in c:\\users\\untjr\\anaconda3\\envs\\x-ray\\lib\\site-packages (from matplotlib>=3.2.2->-r requirements.txt (line 5)) (6.1.1)\n",
      "Collecting absl-py>=0.4 (from tensorboard>=2.2->-r requirements.txt (line 11))\n",
      "  Using cached absl_py-2.1.0-py3-none-any.whl.metadata (2.3 kB)\n",
      "Collecting grpcio>=1.48.2 (from tensorboard>=2.2->-r requirements.txt (line 11))\n",
      "  Downloading grpcio-1.62.0-cp38-cp38-win_amd64.whl.metadata (4.2 kB)\n",
      "Collecting google-auth<3,>=1.6.3 (from tensorboard>=2.2->-r requirements.txt (line 11))\n",
      "  Downloading google_auth-2.28.1-py2.py3-none-any.whl.metadata (4.7 kB)\n",
      "Collecting google-auth-oauthlib<1.1,>=0.5 (from tensorboard>=2.2->-r requirements.txt (line 11))\n",
      "  Downloading google_auth_oauthlib-1.0.0-py2.py3-none-any.whl.metadata (2.7 kB)\n",
      "Collecting markdown>=2.6.8 (from tensorboard>=2.2->-r requirements.txt (line 11))\n",
      "  Downloading Markdown-3.5.2-py3-none-any.whl.metadata (7.0 kB)\n",
      "Collecting protobuf>=3.19.6 (from tensorboard>=2.2->-r requirements.txt (line 11))\n",
      "  Downloading protobuf-4.25.3-cp38-cp38-win_amd64.whl.metadata (541 bytes)\n",
      "Requirement already satisfied: requests<3,>=2.21.0 in c:\\users\\untjr\\anaconda3\\envs\\x-ray\\lib\\site-packages (from tensorboard>=2.2->-r requirements.txt (line 11)) (2.31.0)\n",
      "Requirement already satisfied: setuptools>=41.0.0 in c:\\users\\untjr\\anaconda3\\envs\\x-ray\\lib\\site-packages (from tensorboard>=2.2->-r requirements.txt (line 11)) (68.2.2)\n",
      "Collecting tensorboard-data-server<0.8.0,>=0.7.0 (from tensorboard>=2.2->-r requirements.txt (line 11))\n",
      "  Using cached tensorboard_data_server-0.7.2-py3-none-any.whl.metadata (1.1 kB)\n",
      "Collecting werkzeug>=1.0.1 (from tensorboard>=2.2->-r requirements.txt (line 11))\n",
      "  Downloading werkzeug-3.0.1-py3-none-any.whl.metadata (4.1 kB)\n",
      "Requirement already satisfied: wheel>=0.26 in c:\\users\\untjr\\anaconda3\\envs\\x-ray\\lib\\site-packages (from tensorboard>=2.2->-r requirements.txt (line 11)) (0.41.2)\n",
      "Requirement already satisfied: filelock in c:\\users\\untjr\\anaconda3\\envs\\x-ray\\lib\\site-packages (from torch>=1.6.0->-r requirements.txt (line 12)) (3.13.1)\n",
      "Requirement already satisfied: typing-extensions>=4.8.0 in c:\\users\\untjr\\anaconda3\\envs\\x-ray\\lib\\site-packages (from torch>=1.6.0->-r requirements.txt (line 12)) (4.9.0)\n",
      "Requirement already satisfied: sympy in c:\\users\\untjr\\anaconda3\\envs\\x-ray\\lib\\site-packages (from torch>=1.6.0->-r requirements.txt (line 12)) (1.12)\n",
      "Requirement already satisfied: networkx in c:\\users\\untjr\\anaconda3\\envs\\x-ray\\lib\\site-packages (from torch>=1.6.0->-r requirements.txt (line 12)) (3.1)\n",
      "Requirement already satisfied: jinja2 in c:\\users\\untjr\\anaconda3\\envs\\x-ray\\lib\\site-packages (from torch>=1.6.0->-r requirements.txt (line 12)) (3.1.3)\n",
      "Requirement already satisfied: fsspec in c:\\users\\untjr\\anaconda3\\envs\\x-ray\\lib\\site-packages (from torch>=1.6.0->-r requirements.txt (line 12)) (2024.2.0)\n",
      "Requirement already satisfied: colorama in c:\\users\\untjr\\anaconda3\\envs\\x-ray\\lib\\site-packages (from tqdm>=4.41.0->-r requirements.txt (line 14)) (0.4.6)\n",
      "Collecting cachetools<6.0,>=2.0.0 (from google-auth<3,>=1.6.3->tensorboard>=2.2->-r requirements.txt (line 11))\n",
      "  Downloading cachetools-5.3.3-py3-none-any.whl.metadata (5.3 kB)\n",
      "Collecting pyasn1-modules>=0.2.1 (from google-auth<3,>=1.6.3->tensorboard>=2.2->-r requirements.txt (line 11))\n",
      "  Downloading pyasn1_modules-0.3.0-py2.py3-none-any.whl.metadata (3.6 kB)\n",
      "Collecting rsa<5,>=3.1.4 (from google-auth<3,>=1.6.3->tensorboard>=2.2->-r requirements.txt (line 11))\n",
      "  Downloading rsa-4.9-py3-none-any.whl.metadata (4.2 kB)\n",
      "Collecting requests-oauthlib>=0.7.0 (from google-auth-oauthlib<1.1,>=0.5->tensorboard>=2.2->-r requirements.txt (line 11))\n",
      "  Downloading requests_oauthlib-1.3.1-py2.py3-none-any.whl.metadata (10 kB)\n",
      "Requirement already satisfied: zipp>=3.1.0 in c:\\users\\untjr\\anaconda3\\envs\\x-ray\\lib\\site-packages (from importlib-resources>=3.2.0->matplotlib>=3.2.2->-r requirements.txt (line 5)) (3.17.0)\n",
      "Requirement already satisfied: importlib-metadata>=4.4 in c:\\users\\untjr\\anaconda3\\envs\\x-ray\\lib\\site-packages (from markdown>=2.6.8->tensorboard>=2.2->-r requirements.txt (line 11)) (7.0.1)\n",
      "Requirement already satisfied: six>=1.5 in c:\\users\\untjr\\anaconda3\\envs\\x-ray\\lib\\site-packages (from python-dateutil>=2.7->matplotlib>=3.2.2->-r requirements.txt (line 5)) (1.16.0)\n",
      "Requirement already satisfied: charset-normalizer<4,>=2 in c:\\users\\untjr\\anaconda3\\envs\\x-ray\\lib\\site-packages (from requests<3,>=2.21.0->tensorboard>=2.2->-r requirements.txt (line 11)) (2.0.4)\n",
      "Requirement already satisfied: idna<4,>=2.5 in c:\\users\\untjr\\anaconda3\\envs\\x-ray\\lib\\site-packages (from requests<3,>=2.21.0->tensorboard>=2.2->-r requirements.txt (line 11)) (3.4)\n",
      "Requirement already satisfied: urllib3<3,>=1.21.1 in c:\\users\\untjr\\anaconda3\\envs\\x-ray\\lib\\site-packages (from requests<3,>=2.21.0->tensorboard>=2.2->-r requirements.txt (line 11)) (2.1.0)\n",
      "Requirement already satisfied: certifi>=2017.4.17 in c:\\users\\untjr\\anaconda3\\envs\\x-ray\\lib\\site-packages (from requests<3,>=2.21.0->tensorboard>=2.2->-r requirements.txt (line 11)) (2024.2.2)\n",
      "Requirement already satisfied: MarkupSafe>=2.1.1 in c:\\users\\untjr\\anaconda3\\envs\\x-ray\\lib\\site-packages (from werkzeug>=1.0.1->tensorboard>=2.2->-r requirements.txt (line 11)) (2.1.3)\n",
      "Requirement already satisfied: mpmath>=0.19 in c:\\users\\untjr\\anaconda3\\envs\\x-ray\\lib\\site-packages (from sympy->torch>=1.6.0->-r requirements.txt (line 12)) (1.3.0)\n",
      "Collecting pyasn1<0.6.0,>=0.4.6 (from pyasn1-modules>=0.2.1->google-auth<3,>=1.6.3->tensorboard>=2.2->-r requirements.txt (line 11))\n",
      "  Downloading pyasn1-0.5.1-py2.py3-none-any.whl.metadata (8.6 kB)\n",
      "Collecting oauthlib>=3.0.0 (from requests-oauthlib>=0.7.0->google-auth-oauthlib<1.1,>=0.5->tensorboard>=2.2->-r requirements.txt (line 11))\n",
      "  Downloading oauthlib-3.2.2-py3-none-any.whl.metadata (7.5 kB)\n",
      "Downloading Cython-3.0.8-cp38-cp38-win_amd64.whl (2.8 MB)\n",
      "   ---------------------------------------- 0.0/2.8 MB ? eta -:--:--\n",
      "   ---------------------------------- ----- 2.4/2.8 MB 50.3 MB/s eta 0:00:01\n",
      "   ---------------------------------------- 2.8/2.8 MB 44.8 MB/s eta 0:00:00\n",
      "Downloading scipy-1.10.1-cp38-cp38-win_amd64.whl (42.2 MB)\n",
      "   ---------------------------------------- 0.0/42.2 MB ? eta -:--:--\n",
      "   --- ------------------------------------ 3.4/42.2 MB 71.7 MB/s eta 0:00:01\n",
      "   ------ --------------------------------- 6.4/42.2 MB 67.8 MB/s eta 0:00:01\n",
      "   ------- -------------------------------- 8.4/42.2 MB 67.0 MB/s eta 0:00:01\n",
      "   ------- -------------------------------- 8.4/42.2 MB 67.0 MB/s eta 0:00:01\n",
      "   ------- -------------------------------- 8.4/42.2 MB 67.0 MB/s eta 0:00:01\n",
      "   ---------- ----------------------------- 10.7/42.2 MB 36.4 MB/s eta 0:00:01\n",
      "   ------------ --------------------------- 13.6/42.2 MB 36.4 MB/s eta 0:00:01\n",
      "   --------------- ------------------------ 16.5/42.2 MB 36.4 MB/s eta 0:00:01\n",
      "   ------------------ --------------------- 19.5/42.2 MB 65.6 MB/s eta 0:00:01\n",
      "   --------------------- ------------------ 22.4/42.2 MB 65.2 MB/s eta 0:00:01\n",
      "   ------------------------ --------------- 25.4/42.2 MB 65.2 MB/s eta 0:00:01\n",
      "   -------------------------- ------------- 28.3/42.2 MB 59.8 MB/s eta 0:00:01\n",
      "   ----------------------------- ---------- 31.2/42.2 MB 65.6 MB/s eta 0:00:01\n",
      "   -------------------------------- ------- 34.1/42.2 MB 65.6 MB/s eta 0:00:01\n",
      "   ----------------------------------- ---- 37.1/42.2 MB 65.6 MB/s eta 0:00:01\n",
      "   ------------------------------------- -- 40.0/42.2 MB 65.6 MB/s eta 0:00:01\n",
      "   ---------------------------------------  42.2/42.2 MB 65.6 MB/s eta 0:00:01\n",
      "   ---------------------------------------  42.2/42.2 MB 65.6 MB/s eta 0:00:01\n",
      "   ---------------------------------------- 42.2/42.2 MB 43.7 MB/s eta 0:00:00\n",
      "Downloading tensorboard-2.14.0-py3-none-any.whl (5.5 MB)\n",
      "   ---------------------------------------- 0.0/5.5 MB ? eta -:--:--\n",
      "   -------------------- ------------------- 2.8/5.5 MB 60.4 MB/s eta 0:00:01\n",
      "   ---------------------------------------  5.5/5.5 MB 58.4 MB/s eta 0:00:01\n",
      "   ---------------------------------------- 5.5/5.5 MB 50.0 MB/s eta 0:00:00\n",
      "Using cached absl_py-2.1.0-py3-none-any.whl (133 kB)\n",
      "Downloading google_auth-2.28.1-py2.py3-none-any.whl (186 kB)\n",
      "   ---------------------------------------- 0.0/186.9 kB ? eta -:--:--\n",
      "   --------------------------------------- 186.9/186.9 kB 11.0 MB/s eta 0:00:00\n",
      "Downloading google_auth_oauthlib-1.0.0-py2.py3-none-any.whl (18 kB)\n",
      "Downloading grpcio-1.62.0-cp38-cp38-win_amd64.whl (3.8 MB)\n",
      "   ---------------------------------------- 0.0/3.8 MB ? eta -:--:--\n",
      "   ---------------------------------- ----- 3.3/3.8 MB 71.0 MB/s eta 0:00:01\n",
      "   ---------------------------------------- 3.8/3.8 MB 61.3 MB/s eta 0:00:00\n",
      "Downloading Markdown-3.5.2-py3-none-any.whl (103 kB)\n",
      "   ---------------------------------------- 0.0/103.9 kB ? eta -:--:--\n",
      "   ---------------------------------------- 103.9/103.9 kB ? eta 0:00:00\n",
      "Downloading protobuf-4.25.3-cp38-cp38-win_amd64.whl (413 kB)\n",
      "   ---------------------------------------- 0.0/413.4 kB ? eta -:--:--\n",
      "   --------------------------------------- 413.4/413.4 kB 25.2 MB/s eta 0:00:00\n",
      "Using cached tensorboard_data_server-0.7.2-py3-none-any.whl (2.4 kB)\n",
      "Downloading werkzeug-3.0.1-py3-none-any.whl (226 kB)\n",
      "   ---------------------------------------- 0.0/226.7 kB ? eta -:--:--\n",
      "   --------------------------------------- 226.7/226.7 kB 14.4 MB/s eta 0:00:00\n",
      "Downloading cachetools-5.3.3-py3-none-any.whl (9.3 kB)\n",
      "Downloading pyasn1_modules-0.3.0-py2.py3-none-any.whl (181 kB)\n",
      "   ---------------------------------------- 0.0/181.3 kB ? eta -:--:--\n",
      "   ---------------------------------------- 181.3/181.3 kB ? eta 0:00:00\n",
      "Downloading requests_oauthlib-1.3.1-py2.py3-none-any.whl (23 kB)\n",
      "Downloading rsa-4.9-py3-none-any.whl (34 kB)\n",
      "Downloading oauthlib-3.2.2-py3-none-any.whl (151 kB)\n",
      "   ---------------------------------------- 0.0/151.7 kB ? eta -:--:--\n",
      "   ---------------------------------------- 151.7/151.7 kB 8.8 MB/s eta 0:00:00\n",
      "Downloading pyasn1-0.5.1-py2.py3-none-any.whl (84 kB)\n",
      "   ---------------------------------------- 0.0/84.9 kB ? eta -:--:--\n",
      "   ---------------------------------------- 84.9/84.9 kB ? eta 0:00:00\n",
      "Installing collected packages: werkzeug, tensorboard-data-server, scipy, pyasn1, protobuf, oauthlib, grpcio, Cython, cachetools, absl-py, rsa, requests-oauthlib, pyasn1-modules, markdown, google-auth, google-auth-oauthlib, tensorboard\n",
      "Successfully installed Cython-3.0.8 absl-py-2.1.0 cachetools-5.3.3 google-auth-2.28.1 google-auth-oauthlib-1.0.0 grpcio-1.62.0 markdown-3.5.2 oauthlib-3.2.2 protobuf-4.25.3 pyasn1-0.5.1 pyasn1-modules-0.3.0 requests-oauthlib-1.3.1 rsa-4.9 scipy-1.10.1 tensorboard-2.14.0 tensorboard-data-server-0.7.2 werkzeug-3.0.1\n"
     ]
    }
   ],
   "source": [
    "!pip install -r requirements.txt"
   ]
  },
  {
   "cell_type": "markdown",
   "id": "962f41a2-1829-44fb-b832-a28393366cff",
   "metadata": {},
   "source": [
    "# [단계 ⑦] 모델 훈련"
   ]
  },
  {
   "cell_type": "markdown",
   "id": "f3dcce4d-c70f-482e-8ba7-ac3e61a29e14",
   "metadata": {},
   "source": [
    "## 1. 모델 학습 수행"
   ]
  },
  {
   "cell_type": "raw",
   "id": "eb68cdfd-a385-41d1-a84b-558e3880b141",
   "metadata": {},
   "source": [
    "import os\n",
    "print(os.getcwd())"
   ]
  },
  {
   "cell_type": "raw",
   "id": "d3adedf2-cd82-49e6-ae92-b6898a271f0f",
   "metadata": {},
   "source": [
    "os.chdir('C:/test1/yolov3/')"
   ]
  },
  {
   "cell_type": "raw",
   "id": "7cec70eb-238d-4476-bac8-27394f66c860",
   "metadata": {},
   "source": [
    "import os\n",
    "os.environ['KMP_DUPLICATE_LIB_OK']='True'"
   ]
  },
  {
   "cell_type": "raw",
   "id": "8915bdc5-59a8-456f-b318-1f6369df0bfa",
   "metadata": {},
   "source": [
    "!pip install tensorboard"
   ]
  },
  {
   "cell_type": "code",
   "execution_count": 34,
   "id": "f5df8f7a-6f8a-4ae5-97bc-8f3f40a73ded",
   "metadata": {},
   "outputs": [
    {
     "name": "stdout",
     "output_type": "stream",
     "text": [
      "C:\\test1\\yolov3\n"
     ]
    }
   ],
   "source": [
    "%cd C:\\test1\\yolov3"
   ]
  },
  {
   "cell_type": "code",
   "execution_count": null,
   "id": "9604665f-32c5-4a3f-8651-ea202593b9e0",
   "metadata": {},
   "outputs": [],
   "source": [
    "!python train.py --epochs 15 --weights weights/last.pt --batch-size 3 --cfg yolov3-spp.cfg --data custom.data --nosave --device cpu"
   ]
  },
  {
   "cell_type": "code",
   "execution_count": null,
   "id": "bef8a749-4db3-4783-aefe-ac827f3bdd42",
   "metadata": {},
   "outputs": [],
   "source": [
    "!python train.py --epochs 150 --weights weights/last.pt --batch-size 5 --cfg yolov3-spp.cfg --data custom.data --nosave --device cuda"
   ]
  },
  {
   "cell_type": "raw",
   "id": "42428e87-f4d4-46ed-b768-c4acdb67ecd8",
   "metadata": {},
   "source": [
    "import subprocess\n",
    "\n",
    "# 스크립트 실행 명령어와 인자를 함께 지정합니다.\n",
    "# 이 명령어는 'train.py' 스크립트를 사용하여 모델 학습을 수행합니다.\n",
    "command = \"python C:/test1/yolov3/train.py --epochs 15 --weights weights/last.pt --batch-size 3 --cfg yolov3-spp.cfg --data custom.data --nosave --device cpu\"\n",
    "\n",
    "# subprocess.run을 사용하여 위에서 정의한 명령어를 실행합니다.\n",
    "# 이 명령어는 다음과 같은 작업을 수행합니다:\n",
    "#   --epochs 15: 모델을 15 에폭(epoch) 동안 학습시킵니다. 에폭은 전체 데이터 세트를 한 번 학습하는 것을 의미합니다.\n",
    "#   --weights weights/last.pt: 학습을 시작할 때 사용할 가중치 파일입니다. 'last.pt' 파일을 초기 가중치로 사용합니다.\n",
    "#   --batch-size 3: 각 학습 배치에서 처리할 샘플의 수를 3으로 설정합니다. 배치 크기는 메모리 사용량과 학습 속도에 영향을 미칩니다.\n",
    "#   --cfg yolov3-spp.cfg: 모델의 구조를 정의하는 구성 파일입니다. 'yolov3-spp.cfg'는 모델 구조에 대한 설정을 포함합니다.\n",
    "#   --data custom.data: 학습에 사용될 데이터와 관련된 설정을 포함한 파일입니다. 데이터 경로, 클래스 수, 클래스 이름 등의 정보를 포함할 수 있습니다.\n",
    "#   --nosave: 이 옵션을 사용하면 학습 도중 생성되는 중간 가중치 파일을 저장하지 않습니다. 주로 테스트나 디버깅 목적으로 사용됩니다.\n",
    "#   --device cpu: 학습을 CPU에서 수행하도록 설정합니다. GPU를 사용할 수 있는 경우, '--device gpu' 또는 '--device 0'과 같이 GPU ID를 지정하여 GPU에서 학습을 수행할 수 있습니다.\n",
    "subprocess.run(command, shell=True)\n"
   ]
  },
  {
   "cell_type": "code",
   "execution_count": 37,
   "id": "ef0c4a20-58f9-4df4-b475-13423a2edc68",
   "metadata": {},
   "outputs": [
    {
     "name": "stdout",
     "output_type": "stream",
     "text": [
      "Errors or warnings during training:\n",
      "\n",
      "  0%|          | 0/12 [00:00<?, ?it/s]\n",
      "Caching labels C:\\test1\\yolov3\\train.txt (12 found, 0 missing, 0 empty, 0 duplicate, for 12 images): 100%|##########| 12/12 [00:00<00:00, 5931.84it/s]\n",
      "\n",
      "  0%|          | 0/3 [00:00<?, ?it/s]\n",
      "Caching labels C:\\test1\\yolov3\\test.txt (3 found, 0 missing, 0 empty, 0 duplicate, for 3 images): 100%|##########| 3/3 [00:00<00:00, 3003.08it/s]\n",
      "\n",
      "  0%|          | 0/4 [00:00<?, ?it/s]C:\\Users\\untjr\\anaconda3\\lib\\site-packages\\torch\\cuda\\memory.py:391: FutureWarning: torch.cuda.memory_cached has been renamed to torch.cuda.memory_reserved\n",
      "  warnings.warn(\n",
      "\n",
      "   863/876        0G     0.913    0.0188         0     0.931         4       640:   0%|          | 0/4 [00:06<?, ?it/s]\n",
      "   863/876        0G     0.913    0.0188         0     0.931         4       640:  25%|##5       | 1/4 [00:06<00:20,  6.76s/it]\n",
      "   863/876        0G     0.727    0.0164         0     0.743         3       640:  25%|##5       | 1/4 [00:12<00:20,  6.76s/it]\n",
      "   863/876        0G     0.727    0.0164         0     0.743         3       640:  50%|#####     | 2/4 [00:12<00:11,  6.00s/it]\n",
      "   863/876        0G     0.953    0.0166         0      0.97         5       640:  50%|#####     | 2/4 [00:17<00:11,  6.00s/it]\n",
      "   863/876        0G     0.953    0.0166         0      0.97         5       640:  75%|#######5  | 3/4 [00:17<00:05,  5.72s/it]\n",
      "   863/876        0G     0.931    0.0162         0     0.947         4       640:  75%|#######5  | 3/4 [00:23<00:05,  5.72s/it]\n",
      "   863/876        0G     0.931    0.0162         0     0.947         4       640: 100%|##########| 4/4 [00:23<00:00,  5.60s/it]\n",
      "   863/876        0G     0.931    0.0162         0     0.947         4       640: 100%|##########| 4/4 [00:23<00:00,  5.82s/it]\n",
      "C:\\Users\\untjr\\anaconda3\\lib\\site-packages\\torch\\optim\\lr_scheduler.py:131: UserWarning: Detected call of `lr_scheduler.step()` before `optimizer.step()`. In PyTorch 1.1.0 and later, you should call them in the opposite order: `optimizer.step()` before `lr_scheduler.step()`.  Failure to do this will result in PyTorch skipping the first value of the learning rate schedule. See more details at https://pytorch.org/docs/stable/optim.html#how-to-adjust-learning-rate\n",
      "  warnings.warn(\"Detected call of `lr_scheduler.step()` before `optimizer.step()`. \"\n",
      "\n",
      "               Class    Images   Targets         P         R   mAP@0.5        F1:   0%|          | 0/1 [00:00<?, ?it/s]C:\\Users\\untjr\\anaconda3\\lib\\site-packages\\torch\\functional.py:478: UserWarning: torch.meshgrid: in an upcoming release, it will be required to pass the indexing argument. (Triggered internally at  C:\\cb\\pytorch_1000000000000\\work\\aten\\src\\ATen\\native\\TensorShape.cpp:2895.)\n",
      "  return _VF.meshgrid(tensors, **kwargs)  # type: ignore[attr-defined]\n",
      "\n",
      "               Class    Images   Targets         P         R   mAP@0.5        F1: 100%|##########| 1/1 [00:03<00:00,  3.57s/it]\n",
      "               Class    Images   Targets         P         R   mAP@0.5        F1: 100%|##########| 1/1 [00:03<00:00,  3.80s/it]\n",
      "\n",
      "  0%|          | 0/4 [00:00<?, ?it/s]\n",
      "   864/876        0G     0.899    0.0134         0     0.912         2       640:   0%|          | 0/4 [00:06<?, ?it/s]\n",
      "   864/876        0G     0.899    0.0134         0     0.912         2       640:  25%|##5       | 1/4 [00:06<00:20,  6.86s/it]\n",
      "   864/876        0G      1.02    0.0142         0      1.03         4       640:  25%|##5       | 1/4 [00:12<00:20,  6.86s/it]\n",
      "   864/876        0G      1.02    0.0142         0      1.03         4       640:  50%|#####     | 2/4 [00:12<00:12,  6.10s/it]\n",
      "   864/876        0G      1.01    0.0155         0      1.03         4       640:  50%|#####     | 2/4 [00:17<00:12,  6.10s/it]\n",
      "   864/876        0G      1.01    0.0155         0      1.03         4       640:  75%|#######5  | 3/4 [00:17<00:05,  5.77s/it]\n",
      "   864/876        0G      1.04    0.0174         0      1.06         6       640:  75%|#######5  | 3/4 [00:23<00:05,  5.77s/it]\n",
      "   864/876        0G      1.04    0.0174         0      1.06         6       640: 100%|##########| 4/4 [00:23<00:00,  5.63s/it]\n",
      "   864/876        0G      1.04    0.0174         0      1.06         6       640: 100%|##########| 4/4 [00:23<00:00,  5.87s/it]\n",
      "\n",
      "               Class    Images   Targets         P         R   mAP@0.5        F1:   0%|          | 0/1 [00:00<?, ?it/s]\n",
      "               Class    Images   Targets         P         R   mAP@0.5        F1: 100%|##########| 1/1 [00:03<00:00,  3.46s/it]\n",
      "               Class    Images   Targets         P         R   mAP@0.5        F1: 100%|##########| 1/1 [00:03<00:00,  3.70s/it]\n",
      "\n",
      "  0%|          | 0/4 [00:00<?, ?it/s]\n",
      "   865/876        0G      1.05    0.0125         0      1.06         3       640:   0%|          | 0/4 [00:06<?, ?it/s]\n",
      "   865/876        0G      1.05    0.0125         0      1.06         3       640:  25%|##5       | 1/4 [00:06<00:20,  6.95s/it]\n",
      "   865/876        0G      1.07    0.0177         0      1.09         6       640:  25%|##5       | 1/4 [00:12<00:20,  6.95s/it]\n",
      "   865/876        0G      1.07    0.0177         0      1.09         6       640:  50%|#####     | 2/4 [00:12<00:11,  6.00s/it]\n",
      "   865/876        0G     0.976     0.018         0     0.994         5       640:  50%|#####     | 2/4 [00:17<00:11,  6.00s/it]\n",
      "   865/876        0G     0.976     0.018         0     0.994         5       640:  75%|#######5  | 3/4 [00:17<00:05,  5.70s/it]\n",
      "   865/876        0G     0.831    0.0179         0     0.849         2       640:  75%|#######5  | 3/4 [00:23<00:05,  5.70s/it]\n",
      "   865/876        0G     0.831    0.0179         0     0.849         2       640: 100%|##########| 4/4 [00:23<00:00,  5.76s/it]\n",
      "   865/876        0G     0.831    0.0179         0     0.849         2       640: 100%|##########| 4/4 [00:23<00:00,  5.95s/it]\n",
      "\n",
      "               Class    Images   Targets         P         R   mAP@0.5        F1:   0%|          | 0/1 [00:00<?, ?it/s]\n",
      "               Class    Images   Targets         P         R   mAP@0.5        F1: 100%|##########| 1/1 [00:03<00:00,  3.90s/it]\n",
      "               Class    Images   Targets         P         R   mAP@0.5        F1: 100%|##########| 1/1 [00:04<00:00,  4.18s/it]\n",
      "\n",
      "  0%|          | 0/4 [00:00<?, ?it/s]\n",
      "   866/876        0G     0.739     0.021         0      0.76         3       640:   0%|          | 0/4 [00:07<?, ?it/s]\n",
      "   866/876        0G     0.739     0.021         0      0.76         3       640:  25%|##5       | 1/4 [00:07<00:22,  7.48s/it]\n",
      "   866/876        0G     0.833    0.0187         0     0.852         3       512:  25%|##5       | 1/4 [00:11<00:22,  7.48s/it]\n",
      "   866/876        0G     0.833    0.0187         0     0.852         3       512:  50%|#####     | 2/4 [00:11<00:10,  5.38s/it]\n",
      "   866/876        0G     0.986     0.019         0         1         5       512:  50%|#####     | 2/4 [00:15<00:10,  5.38s/it]\n",
      "   866/876        0G     0.986     0.019         0         1         5       512:  75%|#######5  | 3/4 [00:15<00:04,  4.58s/it]\n",
      "   866/876        0G      0.93    0.0183         0     0.948         3       512:  75%|#######5  | 3/4 [00:18<00:04,  4.58s/it]\n",
      "   866/876        0G      0.93    0.0183         0     0.948         3       512: 100%|##########| 4/4 [00:18<00:00,  4.24s/it]\n",
      "   866/876        0G      0.93    0.0183         0     0.948         3       512: 100%|##########| 4/4 [00:18<00:00,  4.74s/it]\n",
      "\n",
      "               Class    Images   Targets         P         R   mAP@0.5        F1:   0%|          | 0/1 [00:00<?, ?it/s]\n",
      "               Class    Images   Targets         P         R   mAP@0.5        F1: 100%|##########| 1/1 [00:03<00:00,  3.45s/it]\n",
      "               Class    Images   Targets         P         R   mAP@0.5        F1: 100%|##########| 1/1 [00:03<00:00,  3.70s/it]\n",
      "\n",
      "  0%|          | 0/4 [00:00<?, ?it/s]\n",
      "   867/876        0G      0.88    0.0284         0     0.908         7       512:   0%|          | 0/4 [00:05<?, ?it/s]\n",
      "   867/876        0G      0.88    0.0284         0     0.908         7       512:  25%|##5       | 1/4 [00:05<00:15,  5.14s/it]\n",
      "   867/876        0G     0.879    0.0256         0     0.905         8       512:  25%|##5       | 1/4 [00:08<00:15,  5.14s/it]\n",
      "   867/876        0G     0.879    0.0256         0     0.905         8       512:  50%|#####     | 2/4 [00:08<00:08,  4.25s/it]\n",
      "   867/876        0G     0.784    0.0237         0     0.808         5       512:  50%|#####     | 2/4 [00:12<00:08,  4.25s/it]\n",
      "   867/876        0G     0.784    0.0237         0     0.808         5       512:  75%|#######5  | 3/4 [00:12<00:03,  3.98s/it]\n",
      "   867/876        0G     0.909    0.0236         0     0.933         9       512:  75%|#######5  | 3/4 [00:16<00:03,  3.98s/it]\n",
      "   867/876        0G     0.909    0.0236         0     0.933         9       512: 100%|##########| 4/4 [00:16<00:00,  3.84s/it]\n",
      "   867/876        0G     0.909    0.0236         0     0.933         9       512: 100%|##########| 4/4 [00:16<00:00,  4.08s/it]\n",
      "\n",
      "               Class    Images   Targets         P         R   mAP@0.5        F1:   0%|          | 0/1 [00:00<?, ?it/s]\n",
      "               Class    Images   Targets         P         R   mAP@0.5        F1: 100%|##########| 1/1 [00:03<00:00,  3.51s/it]\n",
      "               Class    Images   Targets         P         R   mAP@0.5        F1: 100%|##########| 1/1 [00:03<00:00,  3.77s/it]\n",
      "\n",
      "  0%|          | 0/4 [00:00<?, ?it/s]\n",
      "   868/876        0G     0.939    0.0174         0     0.957         5       512:   0%|          | 0/4 [00:05<?, ?it/s]\n",
      "   868/876        0G     0.939    0.0174         0     0.957         5       512:  25%|##5       | 1/4 [00:05<00:15,  5.13s/it]\n",
      "   868/876        0G     0.826    0.0213         0     0.847         5       512:  25%|##5       | 1/4 [00:08<00:15,  5.13s/it]\n",
      "   868/876        0G     0.826    0.0213         0     0.847         5       512:  50%|#####     | 2/4 [00:08<00:08,  4.30s/it]\n",
      "   868/876        0G      0.91    0.0184         0     0.928         3       512:  50%|#####     | 2/4 [00:12<00:08,  4.30s/it]\n",
      "   868/876        0G      0.91    0.0184         0     0.928         3       512:  75%|#######5  | 3/4 [00:12<00:04,  4.07s/it]\n",
      "   868/876        0G     0.917     0.019         0     0.936         5       512:  75%|#######5  | 3/4 [00:16<00:04,  4.07s/it]\n",
      "   868/876        0G     0.917     0.019         0     0.936         5       512: 100%|##########| 4/4 [00:16<00:00,  3.96s/it]\n",
      "   868/876        0G     0.917     0.019         0     0.936         5       512: 100%|##########| 4/4 [00:16<00:00,  4.18s/it]\n",
      "\n",
      "               Class    Images   Targets         P         R   mAP@0.5        F1:   0%|          | 0/1 [00:00<?, ?it/s]\n",
      "               Class    Images   Targets         P         R   mAP@0.5        F1: 100%|##########| 1/1 [00:03<00:00,  3.52s/it]\n",
      "               Class    Images   Targets         P         R   mAP@0.5        F1: 100%|##########| 1/1 [00:03<00:00,  3.78s/it]\n",
      "\n",
      "  0%|          | 0/4 [00:00<?, ?it/s]\n",
      "   869/876        0G     0.592    0.0106         0     0.603         2       512:   0%|          | 0/4 [00:05<?, ?it/s]\n",
      "   869/876        0G     0.592    0.0106         0     0.603         2       512:  25%|##5       | 1/4 [00:05<00:15,  5.24s/it]\n",
      "   869/876        0G     0.747    0.0129         0      0.76         5       512:  25%|##5       | 1/4 [00:09<00:15,  5.24s/it]\n",
      "   869/876        0G     0.747    0.0129         0      0.76         5       512:  50%|#####     | 2/4 [00:09<00:08,  4.39s/it]\n",
      "   869/876        0G     0.911    0.0139         0     0.925         4       512:  50%|#####     | 2/4 [00:12<00:08,  4.39s/it]\n",
      "   869/876        0G     0.911    0.0139         0     0.925         4       512:  75%|#######5  | 3/4 [00:12<00:04,  4.07s/it]\n",
      "   869/876        0G     0.901     0.016         0     0.917         5       512:  75%|#######5  | 3/4 [00:16<00:04,  4.07s/it]\n",
      "   869/876        0G     0.901     0.016         0     0.917         5       512: 100%|##########| 4/4 [00:16<00:00,  3.97s/it]\n",
      "   869/876        0G     0.901     0.016         0     0.917         5       512: 100%|##########| 4/4 [00:16<00:00,  4.20s/it]\n",
      "\n",
      "               Class    Images   Targets         P         R   mAP@0.5        F1:   0%|          | 0/1 [00:00<?, ?it/s]\n",
      "               Class    Images   Targets         P         R   mAP@0.5        F1: 100%|##########| 1/1 [00:03<00:00,  3.62s/it]\n",
      "               Class    Images   Targets         P         R   mAP@0.5        F1: 100%|##########| 1/1 [00:03<00:00,  3.92s/it]\n",
      "\n",
      "  0%|          | 0/4 [00:00<?, ?it/s]\n",
      "   870/876        0G     0.622    0.0139         0     0.636         3       512:   0%|          | 0/4 [00:05<?, ?it/s]\n",
      "   870/876        0G     0.622    0.0139         0     0.636         3       512:  25%|##5       | 1/4 [00:05<00:16,  5.63s/it]\n",
      "   870/876        0G     0.831    0.0178         0     0.849         7       512:  25%|##5       | 1/4 [00:09<00:16,  5.63s/it]\n",
      "   870/876        0G     0.831    0.0178         0     0.849         7       512:  50%|#####     | 2/4 [00:09<00:09,  4.53s/it]\n",
      "   870/876        0G       0.8    0.0201         0      0.82         5       512:  50%|#####     | 2/4 [00:13<00:09,  4.53s/it]\n",
      "   870/876        0G       0.8    0.0201         0      0.82         5       512:  75%|#######5  | 3/4 [00:13<00:04,  4.18s/it]\n",
      "   870/876        0G     0.877    0.0209         0     0.898         6       512:  75%|#######5  | 3/4 [00:16<00:04,  4.18s/it]\n",
      "   870/876        0G     0.877    0.0209         0     0.898         6       512: 100%|##########| 4/4 [00:16<00:00,  4.04s/it]\n",
      "   870/876        0G     0.877    0.0209         0     0.898         6       512: 100%|##########| 4/4 [00:17<00:00,  4.31s/it]\n",
      "\n",
      "               Class    Images   Targets         P         R   mAP@0.5        F1:   0%|          | 0/1 [00:00<?, ?it/s]\n",
      "               Class    Images   Targets         P         R   mAP@0.5        F1: 100%|##########| 1/1 [00:03<00:00,  3.88s/it]\n",
      "               Class    Images   Targets         P         R   mAP@0.5        F1: 100%|##########| 1/1 [00:04<00:00,  4.17s/it]\n",
      "\n",
      "  0%|          | 0/4 [00:00<?, ?it/s]\n",
      "   871/876        0G     0.608    0.0167         0     0.624         3       512:   0%|          | 0/4 [00:06<?, ?it/s]\n",
      "   871/876        0G     0.608    0.0167         0     0.624         3       512:  25%|##5       | 1/4 [00:06<00:19,  6.36s/it]\n",
      "   871/876        0G     0.604    0.0142         0     0.619         3       512:  25%|##5       | 1/4 [00:10<00:19,  6.36s/it]\n",
      "   871/876        0G     0.604    0.0142         0     0.619         3       512:  50%|#####     | 2/4 [00:10<00:09,  4.83s/it]\n",
      "   871/876        0G     0.659    0.0152         0     0.674         5       512:  50%|#####     | 2/4 [00:14<00:09,  4.83s/it]\n",
      "   871/876        0G     0.659    0.0152         0     0.674         5       512:  75%|#######5  | 3/4 [00:14<00:04,  4.44s/it]\n",
      "   871/876        0G     0.719    0.0157         0     0.735         5       512:  75%|#######5  | 3/4 [00:17<00:04,  4.44s/it]\n",
      "   871/876        0G     0.719    0.0157         0     0.735         5       512: 100%|##########| 4/4 [00:17<00:00,  4.18s/it]\n",
      "   871/876        0G     0.719    0.0157         0     0.735         5       512: 100%|##########| 4/4 [00:18<00:00,  4.54s/it]\n",
      "\n",
      "               Class    Images   Targets         P         R   mAP@0.5        F1:   0%|          | 0/1 [00:00<?, ?it/s]\n",
      "               Class    Images   Targets         P         R   mAP@0.5        F1: 100%|##########| 1/1 [00:03<00:00,  3.56s/it]\n",
      "               Class    Images   Targets         P         R   mAP@0.5        F1: 100%|##########| 1/1 [00:03<00:00,  3.85s/it]\n",
      "\n",
      "  0%|          | 0/4 [00:00<?, ?it/s]\n",
      "   872/876        0G     0.805    0.0103         0     0.815         4       512:   0%|          | 0/4 [00:05<?, ?it/s]\n",
      "   872/876        0G     0.805    0.0103         0     0.815         4       512:  25%|##5       | 1/4 [00:05<00:15,  5.29s/it]\n",
      "   872/876        0G     0.901    0.0137         0     0.915         4       512:  25%|##5       | 1/4 [00:09<00:15,  5.29s/it]\n",
      "   872/876        0G     0.901    0.0137         0     0.915         4       512:  50%|#####     | 2/4 [00:09<00:08,  4.41s/it]\n",
      "   872/876        0G     0.905    0.0163         0     0.921         5       512:  50%|#####     | 2/4 [00:12<00:08,  4.41s/it]\n",
      "   872/876        0G     0.905    0.0163         0     0.921         5       512:  75%|#######5  | 3/4 [00:12<00:04,  4.10s/it]\n",
      "   872/876        0G      1.06    0.0146         0      1.07         4       512:  75%|#######5  | 3/4 [00:16<00:04,  4.10s/it]\n",
      "   872/876        0G      1.06    0.0146         0      1.07         4       512: 100%|##########| 4/4 [00:16<00:00,  3.95s/it]\n",
      "   872/876        0G      1.06    0.0146         0      1.07         4       512: 100%|##########| 4/4 [00:16<00:00,  4.20s/it]\n",
      "\n",
      "               Class    Images   Targets         P         R   mAP@0.5        F1:   0%|          | 0/1 [00:00<?, ?it/s]\n",
      "               Class    Images   Targets         P         R   mAP@0.5        F1: 100%|##########| 1/1 [00:03<00:00,  3.53s/it]\n",
      "               Class    Images   Targets         P         R   mAP@0.5        F1: 100%|##########| 1/1 [00:03<00:00,  3.79s/it]\n",
      "\n",
      "  0%|          | 0/4 [00:00<?, ?it/s]\n",
      "   873/876        0G     0.933    0.0219         0     0.955         7       512:   0%|          | 0/4 [00:05<?, ?it/s]\n",
      "   873/876        0G     0.933    0.0219         0     0.955         7       512:  25%|##5       | 1/4 [00:05<00:16,  5.53s/it]\n",
      "   873/876        0G      1.05    0.0205         0      1.07         5       512:  25%|##5       | 1/4 [00:09<00:16,  5.53s/it]\n",
      "   873/876        0G      1.05    0.0205         0      1.07         5       512:  50%|#####     | 2/4 [00:09<00:09,  4.55s/it]\n",
      "   873/876        0G      1.01    0.0196         0      1.03         4       512:  50%|#####     | 2/4 [00:13<00:09,  4.55s/it]\n",
      "   873/876        0G      1.01    0.0196         0      1.03         4       512:  75%|#######5  | 3/4 [00:13<00:04,  4.19s/it]\n",
      "   873/876        0G      1.08    0.0202         0       1.1         6       512:  75%|#######5  | 3/4 [00:16<00:04,  4.19s/it]\n",
      "   873/876        0G      1.08    0.0202         0       1.1         6       512: 100%|##########| 4/4 [00:16<00:00,  4.00s/it]\n",
      "   873/876        0G      1.08    0.0202         0       1.1         6       512: 100%|##########| 4/4 [00:17<00:00,  4.28s/it]\n",
      "\n",
      "               Class    Images   Targets         P         R   mAP@0.5        F1:   0%|          | 0/1 [00:00<?, ?it/s]\n",
      "               Class    Images   Targets         P         R   mAP@0.5        F1: 100%|##########| 1/1 [00:03<00:00,  3.71s/it]\n",
      "               Class    Images   Targets         P         R   mAP@0.5        F1: 100%|##########| 1/1 [00:03<00:00,  3.99s/it]\n",
      "\n",
      "  0%|          | 0/4 [00:00<?, ?it/s]\n",
      "   874/876        0G     0.631     0.011         0     0.642         2       512:   0%|          | 0/4 [00:05<?, ?it/s]\n",
      "   874/876        0G     0.631     0.011         0     0.642         2       512:  25%|##5       | 1/4 [00:05<00:16,  5.50s/it]\n",
      "   874/876        0G     0.843    0.0118         0     0.854         6       512:  25%|##5       | 1/4 [00:09<00:16,  5.50s/it]\n",
      "   874/876        0G     0.843    0.0118         0     0.854         6       512:  50%|#####     | 2/4 [00:09<00:09,  4.52s/it]\n",
      "   874/876        0G     0.799    0.0136         0     0.812         5       512:  50%|#####     | 2/4 [00:13<00:09,  4.52s/it]\n",
      "   874/876        0G     0.799    0.0136         0     0.812         5       512:  75%|#######5  | 3/4 [00:13<00:04,  4.28s/it]\n",
      "   874/876        0G      1.05     0.014         0      1.06         4       512:  75%|#######5  | 3/4 [00:17<00:04,  4.28s/it]\n",
      "   874/876        0G      1.05     0.014         0      1.06         4       512: 100%|##########| 4/4 [00:17<00:00,  4.10s/it]\n",
      "   874/876        0G      1.05     0.014         0      1.06         4       512: 100%|##########| 4/4 [00:17<00:00,  4.36s/it]\n",
      "\n",
      "               Class    Images   Targets         P         R   mAP@0.5        F1:   0%|          | 0/1 [00:00<?, ?it/s]\n",
      "               Class    Images   Targets         P         R   mAP@0.5        F1: 100%|##########| 1/1 [00:03<00:00,  3.76s/it]\n",
      "               Class    Images   Targets         P         R   mAP@0.5        F1: 100%|##########| 1/1 [00:04<00:00,  4.03s/it]\n",
      "\n",
      "  0%|          | 0/4 [00:00<?, ?it/s]\n",
      "   875/876        0G      1.01    0.0295         0      1.04        10       512:   0%|          | 0/4 [00:05<?, ?it/s]\n",
      "   875/876        0G      1.01    0.0295         0      1.04        10       512:  25%|##5       | 1/4 [00:05<00:16,  5.63s/it]\n",
      "   875/876        0G      1.02    0.0245         0      1.05         5       512:  25%|##5       | 1/4 [00:09<00:16,  5.63s/it]\n",
      "   875/876        0G      1.02    0.0245         0      1.05         5       512:  50%|#####     | 2/4 [00:09<00:09,  4.60s/it]\n",
      "   875/876        0G      1.05    0.0233         0      1.07         5       512:  50%|#####     | 2/4 [00:13<00:09,  4.60s/it]\n",
      "   875/876        0G      1.05    0.0233         0      1.07         5       512:  75%|#######5  | 3/4 [00:13<00:04,  4.23s/it]\n",
      "   875/876        0G      1.06    0.0224         0      1.09         6       512:  75%|#######5  | 3/4 [00:17<00:04,  4.23s/it]\n",
      "   875/876        0G      1.06    0.0224         0      1.09         6       512: 100%|##########| 4/4 [00:17<00:00,  4.15s/it]\n",
      "   875/876        0G      1.06    0.0224         0      1.09         6       512: 100%|##########| 4/4 [00:17<00:00,  4.40s/it]\n",
      "\n",
      "               Class    Images   Targets         P         R   mAP@0.5        F1:   0%|          | 0/1 [00:00<?, ?it/s]\n",
      "               Class    Images   Targets         P         R   mAP@0.5        F1: 100%|##########| 1/1 [00:03<00:00,  3.79s/it]\n",
      "               Class    Images   Targets         P         R   mAP@0.5        F1: 100%|##########| 1/1 [00:04<00:00,  4.09s/it]\n",
      "\n",
      "  0%|          | 0/4 [00:00<?, ?it/s]\n",
      "   876/876        0G     0.897    0.0134         0     0.911         3       512:   0%|          | 0/4 [00:05<?, ?it/s]\n",
      "   876/876        0G     0.897    0.0134         0     0.911         3       512:  25%|##5       | 1/4 [00:05<00:16,  5.53s/it]\n",
      "   876/876        0G     0.737    0.0149         0     0.752         4       512:  25%|##5       | 1/4 [00:09<00:16,  5.53s/it]\n",
      "   876/876        0G     0.737    0.0149         0     0.752         4       512:  50%|#####     | 2/4 [00:09<00:09,  4.53s/it]\n",
      "   876/876        0G     0.884    0.0131         0     0.897         2       512:  50%|#####     | 2/4 [00:13<00:09,  4.53s/it]\n",
      "   876/876        0G     0.884    0.0131         0     0.897         2       512:  75%|#######5  | 3/4 [00:13<00:04,  4.18s/it]\n",
      "   876/876        0G         1    0.0145         0      1.02         4       320:  75%|#######5  | 3/4 [00:15<00:04,  4.18s/it]\n",
      "   876/876        0G         1    0.0145         0      1.02         4       320: 100%|##########| 4/4 [00:15<00:00,  3.31s/it]\n",
      "   876/876        0G         1    0.0145         0      1.02         4       320: 100%|##########| 4/4 [00:15<00:00,  3.84s/it]\n",
      "\n",
      "               Class    Images   Targets         P         R   mAP@0.5        F1:   0%|          | 0/1 [00:00<?, ?it/s]\n",
      "               Class    Images   Targets         P         R   mAP@0.5        F1: 100%|##########| 1/1 [00:03<00:00,  3.55s/it]\n",
      "               Class    Images   Targets         P         R   mAP@0.5        F1: 100%|##########| 1/1 [00:03<00:00,  3.82s/it]\n",
      "\n"
     ]
    },
    {
     "data": {
      "image/png": "[encoded data removed]",
      "text/plain": [
       "<Figure size 1000x500 with 1 Axes>"
      ]
     },
     "metadata": {},
     "output_type": "display_data"
    }
   ],
   "source": [
    "import subprocess\n",
    "import re\n",
    "import matplotlib.pyplot as plt\n",
    "\n",
    "# Corrected training command\n",
    "command = \"python train.py --epochs 15 --weights weights/last.pt --batch-size 3 --cfg yolov3-spp.cfg --data custom.data --nosave --device cpu\"\n",
    "\n",
    "# Run the training process and capture the output\n",
    "process = subprocess.run(command, shell=True, capture_output=True, text=True)\n",
    "\n",
    "# Save the stdout and stderr in separate variables\n",
    "log_data = process.stdout\n",
    "error_output = process.stderr\n",
    "\n",
    "# Print error messages if there are any\n",
    "if error_output:\n",
    "    print(\"Errors or warnings during training:\")\n",
    "    print(error_output)\n",
    "\n",
    "# Extract loss values using regex from the log_data\n",
    "loss_pattern = re.compile(r\"(\\d+)/(\\d+).*?total: (\\d+\\.\\d+).*\")\n",
    "loss_values = [float(m.group(3)) for m in loss_pattern.finditer(log_data)]\n",
    "\n",
    "# Extract the epoch numbers\n",
    "epoch_numbers = [int(m.group(1)) for m in loss_pattern.finditer(log_data)]\n",
    "\n",
    "# Plot the training loss\n",
    "plt.figure(figsize=(10, 5))\n",
    "plt.plot(epoch_numbers, loss_values, marker='o', linestyle='-', color='blue')\n",
    "plt.title('Training Loss Over Epochs')\n",
    "plt.xlabel('Epoch')\n",
    "plt.ylabel('Loss')\n",
    "plt.grid(True)\n",
    "plt.show()"
   ]
  },
  {
   "cell_type": "markdown",
   "id": "0deb1ad2-ce67-4632-ad73-13977a7ad679",
   "metadata": {},
   "source": [
    "# [단계 ⑧] 결과 분석 및 해석"
   ]
  },
  {
   "cell_type": "markdown",
   "id": "18711c1e-31b4-4ec0-a79f-c232d5fb7a9d",
   "metadata": {},
   "source": [
    "## 1. 객체 탐지 수행"
   ]
  },
  {
   "cell_type": "code",
   "execution_count": 61,
   "id": "8db7afbf-06e2-4f90-8385-5d1ad3f06f2f",
   "metadata": {},
   "outputs": [
    {
     "name": "stdout",
     "output_type": "stream",
     "text": [
      "Namespace(cfg='yolov3-spp.cfg', names='classes.names', weights='weights/last.pt', source='images', output='result', img_size=512, conf_thres=0.3, iou_thres=0.6, fourcc='mp4v', half=False, device='cpu', view_img=False, save_txt=False, classes=None, agnostic_nms=False, augment=False)\n",
      "Using CPU\n",
      "\n",
      "Model Summary: 225 layers, 6.25733e+07 parameters, 6.25733e+07 gradients\n",
      "image 1/215 images\\001_20200622_203305(8).jpg: 416x512 Done. (0.827s)\n",
      "image 2/215 images\\001_20200622_203309(1).jpg: 416x512 Done. (0.948s)\n",
      "image 3/215 images\\001_20200622_203312(6).jpg: 416x512 Done. (0.825s)\n",
      "image 4/215 images\\001_20200622_203316(0).jpg: 416x512 Done. (0.869s)\n",
      "image 5/215 images\\001_20200622_203319(4).jpg: 416x512 Done. (0.729s)\n",
      "image 6/215 images\\001_20200622_203330(3).jpg: 416x512 Done. (0.757s)\n",
      "image 7/215 images\\001_20200623_003516(8).jpg: 416x512 Done. (0.752s)\n",
      "image 8/215 images\\001_20200623_003520(5).jpg: 416x512 Done. (0.823s)\n",
      "image 9/215 images\\001_20200623_003524(0).jpg: 416x512 Done. (0.797s)\n",
      "image 10/215 images\\001_20200623_003529(0).jpg: 416x512 Done. (0.905s)\n",
      "image 11/215 images\\001_20200623_003532(5).jpg: 416x512 Done. (0.825s)\n",
      "image 12/215 images\\001_20200623_003536(0).jpg: 416x512 Done. (0.694s)\n",
      "image 13/215 images\\001_20200623_043227(1).jpg: 416x512 Done. (0.623s)\n",
      "image 14/215 images\\001_20200623_043231(6).jpg: 416x512 Done. (0.686s)\n",
      "image 15/215 images\\001_20200623_043236(1).jpg: 416x512 Done. (0.802s)\n",
      "image 16/215 images\\001_20200623_043240(6).jpg: 416x512 Done. (0.605s)\n",
      "image 17/215 images\\001_20200623_043245(2).jpg: 416x512 Done. (0.576s)\n",
      "image 18/215 images\\001_20200623_043249(6).jpg: 416x512 Done. (0.546s)\n",
      "image 19/215 images\\001_20200623_082407(9).jpg: 416x512 Done. (0.558s)\n",
      "image 20/215 images\\001_20200623_082411(0).jpg: 416x512 Done. (0.562s)\n",
      "image 21/215 images\\001_20200623_082414(1).jpg: 416x512 Done. (0.517s)\n",
      "image 22/215 images\\001_20200623_082416(7).jpg: 416x512 Done. (0.552s)\n",
      "image 23/215 images\\001_20200623_082419(6).jpg: 416x512 Done. (0.530s)\n",
      "image 24/215 images\\001_20200623_082422(5).jpg: 416x512 Done. (0.512s)\n",
      "image 25/215 images\\001_20200623_123214(3).jpg: 416x512 Done. (0.521s)\n",
      "image 26/215 images\\001_20200623_123223(3).jpg: 416x512 Done. (0.625s)\n",
      "image 27/215 images\\001_20200623_123232(3).jpg: 416x512 Done. (0.494s)\n",
      "image 28/215 images\\001_20200623_123236(9).jpg: 416x512 Done. (0.469s)\n",
      "image 29/215 images\\001_20200623_123241(3).jpg: 416x512 Done. (0.446s)\n",
      "image 30/215 images\\001_20200623_123245(8).jpg: 416x512 Done. (0.598s)\n",
      "image 31/215 images\\001_20200623_163159(5).jpg: 416x512 Done. (1.067s)\n",
      "image 32/215 images\\001_20200623_163209(3).jpg: 416x512 Done. (0.813s)\n",
      "image 33/215 images\\001_20200623_163212(9).jpg: 416x512 Done. (0.871s)\n",
      "image 34/215 images\\001_20200623_163216(2).jpg: 416x512 Done. (0.542s)\n",
      "image 35/215 images\\001_20200623_163219(5).jpg: 416x512 Done. (0.380s)\n",
      "image 36/215 images\\001_20200623_163222(9).jpg: 416x512 Done. (0.401s)\n",
      "image 37/215 images\\001_20200623_203217(4).jpg: 416x512 Done. (0.665s)\n",
      "image 38/215 images\\001_20200623_203222(0).jpg: 416x512 Done. (0.513s)\n",
      "image 39/215 images\\001_20200623_203226(3).jpg: 416x512 Done. (0.477s)\n",
      "image 40/215 images\\001_20200623_203230(9).jpg: 416x512 Done. (0.477s)\n",
      "image 41/215 images\\001_20200623_203235(3).jpg: 416x512 Done. (0.521s)\n",
      "image 42/215 images\\001_20200623_203247(5).jpg: 416x512 Done. (0.566s)\n",
      "image 43/215 images\\001_20200624_003240(4).jpg: 416x512 Done. (0.482s)\n",
      "image 44/215 images\\001_20200624_003244(2).jpg: 416x512 Done. (0.500s)\n",
      "image 45/215 images\\001_20200624_003247(7).jpg: 416x512 Done. (0.521s)\n",
      "image 46/215 images\\001_20200624_003251(1).jpg: 416x512 Done. (0.482s)\n",
      "image 47/215 images\\001_20200624_003254(3).jpg: 416x512 Done. (0.466s)\n",
      "image 48/215 images\\001_20200624_003303(5).jpg: 416x512 Done. (0.461s)\n",
      "image 49/215 images\\001_20200624_043315(2).jpg: 416x512 Done. (0.556s)\n",
      "image 50/215 images\\001_20200624_043324(2).jpg: 416x512 Done. (1.173s)\n",
      "image 51/215 images\\001_20200624_043328(7).jpg: 416x512 Done. (0.721s)\n",
      "image 52/215 images\\001_20200624_043333(2).jpg: 416x512 Done. (0.774s)\n",
      "image 53/215 images\\001_20200624_043337(8).jpg: 416x512 Done. (0.851s)\n",
      "image 54/215 images\\001_20200624_043349(7).jpg: 416x512 Done. (0.755s)\n",
      "image 55/215 images\\001_20200624_083150(7).jpg: 416x512 Done. (0.798s)\n",
      "image 56/215 images\\001_20200624_083153(8).jpg: 416x512 Done. (0.863s)\n",
      "image 57/215 images\\001_20200624_083156(9).jpg: 416x512 Done. (0.927s)\n",
      "image 58/215 images\\001_20200624_083159(6).jpg: 416x512 Done. (0.817s)\n",
      "image 59/215 images\\001_20200624_083202(6).jpg: 416x512 Done. (0.772s)\n",
      "image 60/215 images\\001_20200624_083205(7).jpg: 416x512 Done. (0.698s)\n",
      "image 61/215 images\\001_20200624_123313(4).jpg: 416x512 Done. (0.812s)\n",
      "image 62/215 images\\001_20200624_123317(8).jpg: 416x512 Done. (0.773s)\n",
      "image 63/215 images\\001_20200624_123322(3).jpg: 416x512 Done. (0.847s)\n",
      "image 64/215 images\\001_20200624_123326(6).jpg: 416x512 Done. (0.844s)\n",
      "image 65/215 images\\001_20200624_123331(2).jpg: 416x512 Done. (0.820s)\n",
      "image 66/215 images\\001_20200624_123335(6).jpg: 416x512 Done. (0.678s)\n",
      "image 67/215 images\\001_20200624_162816(3).jpg: 416x512 Done. (0.545s)\n",
      "image 68/215 images\\001_20200624_162821(2).jpg: 416x512 Done. (0.402s)\n",
      "image 69/215 images\\001_20200624_162831(2).jpg: 416x512 Done. (0.497s)\n",
      "image 70/215 images\\001_20200624_162835(8).jpg: 416x512 Done. (0.557s)\n",
      "image 71/215 images\\001_20200624_162846(3).jpg: 416x512 Done. (0.557s)\n",
      "image 72/215 images\\001_20200624_162850(9).jpg: 416x512 Done. (0.407s)\n",
      "image 73/215 images\\001_20200624_203149(7).jpg: 416x512 Done. (0.386s)\n",
      "image 74/215 images\\001_20200624_203154(3).jpg: 416x512 Done. (0.373s)\n",
      "image 75/215 images\\001_20200624_203203(1).jpg: 416x512 Done. (0.415s)\n",
      "image 76/215 images\\001_20200624_203207(8).jpg: 416x512 Done. (0.394s)\n",
      "image 77/215 images\\001_20200624_203212(2).jpg: 416x512 Done. (0.465s)\n",
      "image 78/215 images\\001_20200624_203225(8).jpg: 416x512 Done. (0.455s)\n",
      "image 79/215 images\\001_20200625_003507(0).jpg: 416x512 Done. (0.349s)\n",
      "image 80/215 images\\001_20200625_003511(4).jpg: 416x512 Done. (0.355s)\n",
      "image 81/215 images\\001_20200625_003515(9).jpg: 416x512 Done. (0.368s)\n",
      "image 82/215 images\\001_20200625_003520(4).jpg: 416x512 Done. (0.544s)\n",
      "image 83/215 images\\001_20200625_003524(9).jpg: 416x512 Done. (0.579s)\n",
      "image 84/215 images\\001_20200625_003529(2).jpg: 416x512 Done. (0.449s)\n",
      "image 85/215 images\\001_20200625_043323(7).jpg: 416x512 Done. (0.481s)\n",
      "image 86/215 images\\001_20200625_043328(3).jpg: 416x512 Done. (0.396s)\n",
      "image 87/215 images\\001_20200625_043337(3).jpg: 416x512 Done. (0.348s)\n",
      "image 88/215 images\\001_20200625_043341(7).jpg: 416x512 Done. (0.933s)\n",
      "image 89/215 images\\001_20200625_043346(2).jpg: 416x512 Done. (0.771s)\n",
      "image 90/215 images\\001_20200625_043359(8).jpg: 416x512 Done. (0.614s)\n",
      "image 91/215 images\\001_20200629_082825(1).jpg: 416x512 Done. (0.649s)\n",
      "image 92/215 images\\001_20200629_082828(0).jpg: 416x512 Done. (0.469s)\n",
      "image 93/215 images\\001_20200629_082831(0).jpg: 416x512 Done. (0.390s)\n",
      "image 94/215 images\\001_20200629_082834(2).jpg: 416x512 Done. (0.487s)\n",
      "image 95/215 images\\001_20200629_082837(2).jpg: 416x512 Done. (0.514s)\n",
      "image 96/215 images\\001_20200629_082840(2).jpg: 416x512 Done. (0.521s)\n",
      "image 97/215 images\\001_20200629_082905(4).jpg: 416x512 Done. (0.515s)\n",
      "image 98/215 images\\001_20200629_123107(1).jpg: 416x512 Done. (0.524s)\n",
      "image 99/215 images\\001_20200629_123111(6).jpg: 416x512 Done. (0.535s)\n",
      "image 100/215 images\\001_20200629_123116(1).jpg: 416x512 Done. (0.523s)\n",
      "image 101/215 images\\001_20200629_123120(6).jpg: 416x512 Done. (0.519s)\n",
      "image 102/215 images\\001_20200629_123125(2).jpg: 416x512 Done. (0.553s)\n",
      "image 103/215 images\\001_20200629_123129(6).jpg: 416x512 Done. (0.590s)\n",
      "image 104/215 images\\001_20200629_163728(4).jpg: 416x512 Done. (0.520s)\n",
      "image 105/215 images\\001_20200629_163732(9).jpg: 416x512 Done. (0.479s)\n",
      "image 106/215 images\\001_20200629_163737(5).jpg: 416x512 Done. (0.621s)\n",
      "image 107/215 images\\001_20200629_163741(9).jpg: 416x512 Done. (1.024s)\n",
      "image 108/215 images\\001_20200629_163746(6).jpg: 416x512 Done. (0.791s)\n",
      "image 109/215 images\\001_20200629_163756(6).jpg: 416x512 Done. (0.808s)\n",
      "image 110/215 images\\001_20200629_202802(6).jpg: 416x512 Done. (0.774s)\n",
      "image 111/215 images\\001_20200629_202807(1).jpg: 416x512 Done. (0.827s)\n",
      "image 112/215 images\\001_20200629_202811(5).jpg: 416x512 Done. (0.809s)\n",
      "image 113/215 images\\001_20200629_202816(1).jpg: 416x512 Done. (0.887s)\n",
      "image 114/215 images\\001_20200629_202820(6).jpg: 416x512 Done. (0.860s)\n",
      "image 115/215 images\\001_20200629_202825(1).jpg: 416x512 Done. (0.624s)\n",
      "image 116/215 images\\001_20200630_003006(2).jpg: 416x512 Done. (0.654s)\n",
      "image 117/215 images\\001_20200630_003010(8).jpg: 416x512 Done. (0.503s)\n",
      "image 118/215 images\\001_20200630_003015(1).jpg: 416x512 Done. (0.594s)\n",
      "image 119/215 images\\001_20200630_003019(7).jpg: 416x512 Done. (0.531s)\n",
      "image 120/215 images\\001_20200630_003024(2).jpg: 416x512 Done. (0.611s)\n",
      "image 121/215 images\\001_20200630_003033(2).jpg: 416x512 Done. (0.625s)\n",
      "image 122/215 images\\001_20200630_043339(8).jpg: 416x512 Done. (0.652s)\n",
      "image 123/215 images\\001_20200630_043538(1).jpg: 416x512 Done. (0.744s)\n",
      "image 124/215 images\\001_20200630_043544(2).jpg: 416x512 Done. (0.462s)\n",
      "image 125/215 images\\001_20200630_043548(7).jpg: 416x512 Done. (0.484s)\n",
      "image 126/215 images\\001_20200630_043600(9).jpg: 416x512 Done. (0.475s)\n",
      "image 127/215 images\\001_20200630_043605(5).jpg: 416x512 Done. (0.668s)\n",
      "image 128/215 images\\001_20200630_083235(6).jpg: 416x512 Done. (0.534s)\n",
      "image 129/215 images\\001_20200630_083322(2).jpg: 416x512 Done. (0.375s)\n",
      "image 130/215 images\\001_20200630_083331(2).jpg: 416x512 Done. (0.390s)\n",
      "image 131/215 images\\001_20200630_083350(7).jpg: 416x512 Done. (0.416s)\n",
      "image 132/215 images\\001_20200630_083355(1).jpg: 416x512 Done. (0.370s)\n",
      "image 133/215 images\\001_20200630_083405(7).jpg: 416x512 Done. (0.378s)\n",
      "image 134/215 images\\001_20200630_123334(2).jpg: 416x512 Done. (0.573s)\n",
      "image 135/215 images\\001_20200630_123338(7).jpg: 416x512 Done. (0.455s)\n",
      "image 136/215 images\\001_20200630_123343(2).jpg: 416x512 Done. (0.510s)\n",
      "image 137/215 images\\001_20200630_123347(6).jpg: 416x512 Done. (0.500s)\n",
      "image 138/215 images\\001_20200630_123352(1).jpg: 416x512 Done. (0.456s)\n",
      "image 139/215 images\\001_20200630_123423(6).jpg: 416x512 Done. (0.457s)\n",
      "image 140/215 images\\001_20200630_123426(8).jpg: 416x512 Done. (0.568s)\n",
      "image 141/215 images\\001_20200630_163111(8).jpg: 416x512 Done. (0.580s)\n",
      "image 142/215 images\\001_20200630_163116(2).jpg: 416x512 Done. (0.434s)\n",
      "image 143/215 images\\001_20200630_163120(7).jpg: 416x512 Done. (0.475s)\n",
      "image 144/215 images\\001_20200630_163125(2).jpg: 416x512 Done. (1.214s)\n",
      "image 145/215 images\\001_20200630_163129(8).jpg: 416x512 Done. (0.887s)\n",
      "image 146/215 images\\001_20200630_163134(2).jpg: 416x512 Done. (0.886s)\n",
      "image 147/215 images\\001_20200630_163147(8).jpg: 416x512 Done. (0.541s)\n",
      "image 148/215 images\\001_20200630_203200(3).jpg: 416x512 Done. (0.515s)\n",
      "image 149/215 images\\001_20200630_203205(0).jpg: 416x512 Done. (0.379s)\n",
      "image 150/215 images\\001_20200630_203209(3).jpg: 416x512 Done. (0.430s)\n",
      "image 151/215 images\\001_20200630_203213(8).jpg: 416x512 Done. (0.401s)\n",
      "image 152/215 images\\001_20200630_203218(3).jpg: 416x512 Done. (0.353s)\n",
      "image 153/215 images\\001_20200630_203222(8).jpg: 416x512 Done. (0.361s)\n",
      "image 154/215 images\\001_20200701_004132(8).jpg: 416x512 Done. (0.338s)\n",
      "image 155/215 images\\001_20200701_004141(6).jpg: 416x512 Done. (0.338s)\n",
      "image 156/215 images\\001_20200701_004146(2).jpg: 416x512 Done. (0.364s)\n",
      "image 157/215 images\\001_20200701_004150(6).jpg: 416x512 Done. (0.408s)\n",
      "image 158/215 images\\001_20200701_004155(1).jpg: 416x512 Done. (0.367s)\n",
      "image 159/215 images\\001_20200701_004159(7).jpg: 416x512 Done. (0.419s)\n",
      "image 160/215 images\\001_20200701_043236(2).jpg: 416x512 Done. (0.368s)\n",
      "image 161/215 images\\001_20200701_043245(3).jpg: 416x512 Done. (0.393s)\n",
      "image 162/215 images\\001_20200701_043249(7).jpg: 416x512 Done. (0.338s)\n",
      "image 163/215 images\\001_20200701_043258(7).jpg: 416x512 Done. (0.350s)\n",
      "image 164/215 images\\001_20200701_043307(7).jpg: 416x512 Done. (0.732s)\n",
      "image 165/215 images\\001_20200701_043312(4).jpg: 416x512 Done. (0.703s)\n",
      "image 166/215 images\\001_20200701_083251(9).jpg: 416x512 Done. (0.551s)\n",
      "image 167/215 images\\001_20200701_083256(5).jpg: 416x512 Done. (0.533s)\n",
      "image 168/215 images\\001_20200701_083300(7).jpg: 416x512 Done. (0.726s)\n",
      "image 169/215 images\\001_20200701_083309(8).jpg: 416x512 Done. (0.652s)\n",
      "image 170/215 images\\001_20200701_083323(2).jpg: 416x512 Done. (0.920s)\n",
      "image 171/215 images\\001_20200701_083327(8).jpg: 416x512 Done. (1.058s)\n",
      "image 172/215 images\\001_20200701_123507(7).jpg: 416x512 Done. (0.877s)\n",
      "image 173/215 images\\001_20200701_123511(0).jpg: 416x512 Done. (0.834s)\n",
      "image 174/215 images\\001_20200701_123514(1).jpg: 416x512 Done. (0.794s)\n",
      "image 175/215 images\\001_20200701_123517(3).jpg: 416x512 Done. (0.634s)\n",
      "image 176/215 images\\001_20200701_123520(6).jpg: 416x512 Done. (0.672s)\n",
      "image 177/215 images\\001_20200701_123523(9).jpg: 416x512 Done. (0.706s)\n",
      "image 178/215 images\\001_20200701_163109(0).jpg: 416x512 Done. (0.941s)\n",
      "image 179/215 images\\001_20200701_163112(8).jpg: 416x512 Done. (0.959s)\n",
      "image 180/215 images\\001_20200701_163121(1).jpg: 416x512 Done. (0.798s)\n",
      "image 181/215 images\\001_20200701_163140(2).jpg: 416x512 Done. (0.633s)\n",
      "image 182/215 images\\001_20200701_163144(5).jpg: 416x512 Done. (0.519s)\n",
      "image 183/215 images\\001_20200701_163202(1).jpg: 416x512 Done. (0.814s)\n",
      "image 184/215 images\\001_20200701_203552(7).jpg: 416x512 Done. (0.839s)\n",
      "image 185/215 images\\001_20200701_203557(3).jpg: 416x512 Done. (0.544s)\n",
      "image 186/215 images\\001_20200701_203601(8).jpg: 416x512 Done. (0.484s)\n",
      "image 187/215 images\\001_20200701_203606(3).jpg: 416x512 Done. (0.473s)\n",
      "image 188/215 images\\001_20200701_203610(7).jpg: 416x512 Done. (0.510s)\n",
      "image 189/215 images\\001_20200701_203615(2).jpg: 416x512 Done. (0.409s)\n",
      "image 190/215 images\\001_20200702_003135(7).jpg: 416x512 Done. (0.471s)\n",
      "image 191/215 images\\001_20200702_003140(4).jpg: 416x512 Done. (0.446s)\n",
      "image 192/215 images\\001_20200702_003149(3).jpg: 416x512 Done. (0.449s)\n",
      "image 193/215 images\\001_20200702_003154(0).jpg: 416x512 Done. (0.451s)\n",
      "image 194/215 images\\001_20200702_003158(4).jpg: 416x512 Done. (0.459s)\n",
      "image 195/215 images\\001_20200702_003203(1).jpg: 416x512 Done. (0.482s)\n",
      "image 196/215 images\\001_20200702_043956(5).jpg: 416x512 Done. (0.537s)\n",
      "image 197/215 images\\001_20200702_043959(8).jpg: 416x512 Done. (0.467s)\n",
      "image 198/215 images\\001_20200702_044003(1).jpg: 416x512 Done. (0.450s)\n",
      "image 199/215 images\\001_20200702_044006(3).jpg: 416x512 Done. (0.451s)\n",
      "image 200/215 images\\001_20200702_044009(8).jpg: 416x512 Done. (0.685s)\n",
      "image 201/215 images\\001_20200901_003429(1).jpg: 416x512 Done. (0.898s)\n",
      "image 202/215 images\\001_20200922_163329(0).jpg: 416x512 Done. (0.794s)\n",
      "image 203/215 images\\001_20200922_163332(2).jpg: 416x512 Done. (0.655s)\n",
      "image 204/215 images\\002_20200714_043029(1).jpg: 512x512 1 defects, Done. (0.704s)\n",
      "image 205/215 images\\002_20200715_042416(9).jpg: 512x512 Done. (0.528s)\n",
      "image 206/215 images\\002_20200831_083545(0).jpg: 512x512 Done. (0.588s)\n",
      "image 207/215 images\\002_20200831_123134(5).jpg: 512x512 Done. (0.603s)\n",
      "image 208/215 images\\002_20200908_043137(8).jpg: 512x512 Done. (0.574s)\n",
      "image 209/215 images\\002_20200915_003459(4).jpg: 512x512 Done. (0.557s)\n",
      "image 210/215 images\\002_20200917_043110(7).jpg: 512x512 Done. (0.642s)\n",
      "image 211/215 images\\002_20200917_202952(6).jpg: 512x512 Done. (0.579s)\n",
      "image 212/215 images\\002_20200917_203001(5).jpg: 512x512 1 defects, Done. (0.635s)\n",
      "image 213/215 images\\002_20200922_083747(7).jpg: 512x512 1 defects, Done. (0.598s)\n"
     ]
    },
    {
     "name": "stderr",
     "output_type": "stream",
     "text": [
      "C:\\Users\\untjr\\anaconda3\\Lib\\site-packages\\torch\\functional.py:507: UserWarning: torch.meshgrid: in an upcoming release, it will be required to pass the indexing argument. (Triggered internally at ..\\aten\\src\\ATen\\native\\TensorShape.cpp:3550.)\n",
      "  return _VF.meshgrid(tensors, **kwargs)  # type: ignore[attr-defined]\n",
      "Traceback (most recent call last):\n",
      "  File \"C:\\test1\\yolov3\\detect.py\", line 191, in <module>\n",
      "    detect()\n",
      "  File \"C:\\test1\\yolov3\\detect.py\", line 80, in detect\n",
      "    for path, img, im0s, vid_cap in dataset:\n",
      "  File \"C:\\test1\\yolov3\\utils\\datasets.py\", line 99, in __next__\n",
      "    assert img0 is not None, 'Image Not Found ' + path\n",
      "           ^^^^^^^^^^^^^^^^\n",
      "AssertionError: Image Not Found images\\test.jpg\n"
     ]
    }
   ],
   "source": [
    "!python detect.py --weights weights/last.pt --source images --cfg yolov3-spp.cfg --names classes.names --output result --device cpu"
   ]
  },
  {
   "cell_type": "markdown",
   "id": "c91ac6b9-bb2c-4bd9-9dbd-790f3138b28d",
   "metadata": {},
   "source": [
    "## 2. 모델 성능 평가"
   ]
  },
  {
   "cell_type": "code",
   "execution_count": 62,
   "id": "4f7c0020-6a66-476f-9a36-a6022e743535",
   "metadata": {},
   "outputs": [
    {
     "name": "stdout",
     "output_type": "stream",
     "text": [
      "Namespace(cfg='yolov3-spp.cfg', data='custom.data', weights='weights/last.pt', batch_size=3, img_size=512, conf_thres=0.001, iou_thres=0.6, save_json=False, task='test', device='cpu', single_cls=False, augment=False)\n",
      "Using CPU\n",
      "\n",
      "WARNING: smart bias initialization failure.\n",
      "WARNING: smart bias initialization failure.\n",
      "WARNING: smart bias initialization failure.\n",
      "Model Summary: 225 layers, 6.25733e+07 parameters, 6.25733e+07 gradients\n",
      "Fusing layers...\n",
      "Model Summary: 152 layers, 6.25465e+07 parameters, 6.25465e+07 gradients\n",
      "                 all         3         5     0.952         1     0.995     0.975\n",
      "Speed: 650.9/2.5/653.4 ms inference/NMS/total per 512x512 image at batch-size 3\n"
     ]
    },
    {
     "name": "stderr",
     "output_type": "stream",
     "text": [
      "\n",
      "  0%|          | 0/3 [00:00<?, ?it/s]\n",
      "Caching labels C:\\test1\\yolov3\\test.txt (3 found, 0 missing, 0 empty, 0 duplicate, for 3 images): 100%|##########| 3/3 [00:00<00:00, 3005.23it/s]\n",
      "\n",
      "               Class    Images   Targets         P         R   mAP@0.5        F1:   0%|          | 0/1 [00:00<?, ?it/s]C:\\Users\\untjr\\anaconda3\\Lib\\site-packages\\torch\\functional.py:507: UserWarning: torch.meshgrid: in an upcoming release, it will be required to pass the indexing argument. (Triggered internally at ..\\aten\\src\\ATen\\native\\TensorShape.cpp:3550.)\n",
      "  return _VF.meshgrid(tensors, **kwargs)  # type: ignore[attr-defined]\n",
      "\n",
      "               Class    Images   Targets         P         R   mAP@0.5        F1: 100%|##########| 1/1 [00:07<00:00,  7.47s/it]\n",
      "               Class    Images   Targets         P         R   mAP@0.5        F1: 100%|##########| 1/1 [00:08<00:00,  8.24s/it]\n",
      "C:\\test1\\yolov3\\test.py:228: DeprecationWarning: Conversion of an array with ndim > 0 to a scalar is deprecated, and will error in future. Ensure you extract a single element from your array before performing this operation. (Deprecated NumPy 1.25.)\n",
      "  maps[c] = ap[i]\n"
     ]
    }
   ],
   "source": [
    "!python test.py --cfg yolov3-spp.cfg --batch-size 3 --data custom.data --weights weights/last.pt --device cpu"
   ]
  },
  {
   "cell_type": "code",
   "execution_count": null,
   "id": "39d2cac5-cfcb-45ec-aa36-8bae17b484c7",
   "metadata": {},
   "outputs": [],
   "source": [
    " "
   ]
  }
 ],
 "metadata": {
  "kernelspec": {
   "display_name": "Python 3 (ipykernel)",
   "language": "python",
   "name": "python3"
  },
  "language_info": {
   "codemirror_mode": {
    "name": "ipython",
    "version": 3
   },
   "file_extension": ".py",
   "mimetype": "text/x-python",
   "name": "python",
   "nbconvert_exporter": "python",
   "pygments_lexer": "ipython3",
   "version": "3.8.18"
  }
 },
 "nbformat": 4,
 "nbformat_minor": 5
}
